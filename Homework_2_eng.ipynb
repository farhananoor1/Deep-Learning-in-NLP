{
  "cells": [
    {
      "cell_type": "markdown",
      "source": [
        "Base on  [BobaZooba hw](https://github.com/BobaZooba/DeepNLP/blob/2020/Week%203/Homework%202.ipynb)"
      ],
      "metadata": {
        "id": "zg4SNPVSp4II"
      }
    },
    {
      "cell_type": "code",
      "source": [
        "!pip install data"
      ],
      "metadata": {
        "colab": {
          "base_uri": "https://localhost:8080/"
        },
        "id": "SToIFv922JK1",
        "outputId": "7c94284d-3faa-47ae-e326-495df059b4c8"
      },
      "execution_count": 1,
      "outputs": [
        {
          "output_type": "stream",
          "name": "stdout",
          "text": [
            "Collecting data\n",
            "  Downloading data-0.4.tar.gz (7.0 kB)\n",
            "  Preparing metadata (setup.py) ... \u001b[?25l\u001b[?25hdone\n",
            "Requirement already satisfied: six in /usr/local/lib/python3.10/dist-packages (from data) (1.16.0)\n",
            "Requirement already satisfied: decorator in /usr/local/lib/python3.10/dist-packages (from data) (4.4.2)\n",
            "Collecting funcsigs (from data)\n",
            "  Downloading funcsigs-1.0.2-py2.py3-none-any.whl.metadata (14 kB)\n",
            "Downloading funcsigs-1.0.2-py2.py3-none-any.whl (17 kB)\n",
            "Building wheels for collected packages: data\n",
            "  Building wheel for data (setup.py) ... \u001b[?25l\u001b[?25hdone\n",
            "  Created wheel for data: filename=data-0.4-py3-none-any.whl size=7227 sha256=8c21bf1229a1b89823c92cbe07835fbb58c6267e1aea614c94794adc9b1b7fa0\n",
            "  Stored in directory: /root/.cache/pip/wheels/d0/e8/fa/e253c256048ea58d99a8abb5e751abb6a838af6f12887b5418\n",
            "Successfully built data\n",
            "Installing collected packages: funcsigs, data\n",
            "Successfully installed data-0.4 funcsigs-1.0.2\n"
          ]
        }
      ]
    },
    {
      "cell_type": "code",
      "source": [
        "!ls /content/"
      ],
      "metadata": {
        "colab": {
          "base_uri": "https://localhost:8080/"
        },
        "id": "ffo2sZoICNF1",
        "outputId": "92e8941b-e1d0-48ab-f534-bd5ca3247e5c"
      },
      "execution_count": 2,
      "outputs": [
        {
          "output_type": "stream",
          "name": "stdout",
          "text": [
            "data.py  sample_data\n"
          ]
        }
      ]
    },
    {
      "cell_type": "code",
      "execution_count": 3,
      "metadata": {
        "id": "0_n88FxPp0HN"
      },
      "outputs": [],
      "source": [
        "import math\n",
        "import numpy as np\n",
        "\n",
        "from tqdm import tqdm\n",
        "\n",
        "import torch\n",
        "\n",
        "import zipfile\n",
        "\n",
        "import seaborn as sns\n",
        "\n",
        "from data import Downloader, Parser"
      ]
    },
    {
      "cell_type": "markdown",
      "metadata": {
        "id": "5bFT_aogp0HO"
      },
      "source": [
        "### Loading the file with embeddings for English\n",
        "We will need them a little later.\n",
        "\n",
        "For other languages: https://fasttext.cc/docs/en/crawl-vectors.html"
      ]
    },
    {
      "cell_type": "code",
      "execution_count": 4,
      "metadata": {
        "id": "ek14oFkpp0HP",
        "outputId": "698cc8dd-e7cb-48fc-9d65-258ccdc1f636",
        "colab": {
          "base_uri": "https://localhost:8080/"
        }
      },
      "outputs": [
        {
          "output_type": "stream",
          "name": "stdout",
          "text": [
            "--2024-10-28 20:34:24--  https://dl.fbaipublicfiles.com/fasttext/vectors-english/wiki-news-300d-1M.vec.zip\n",
            "Resolving dl.fbaipublicfiles.com (dl.fbaipublicfiles.com)... 3.163.189.96, 3.163.189.51, 3.163.189.108, ...\n",
            "Connecting to dl.fbaipublicfiles.com (dl.fbaipublicfiles.com)|3.163.189.96|:443... connected.\n",
            "HTTP request sent, awaiting response... 200 OK\n",
            "Length: 681808098 (650M) [application/zip]\n",
            "Saving to: ‘wiki-news-300d-1M.vec.zip’\n",
            "\n",
            "wiki-news-300d-1M.v 100%[===================>] 650.22M   221MB/s    in 2.9s    \n",
            "\n",
            "2024-10-28 20:34:27 (221 MB/s) - ‘wiki-news-300d-1M.vec.zip’ saved [681808098/681808098]\n",
            "\n"
          ]
        }
      ],
      "source": [
        "# uncomment and download\n",
        "!wget https://dl.fbaipublicfiles.com/fasttext/vectors-english/wiki-news-300d-1M.vec.zip"
      ]
    },
    {
      "cell_type": "code",
      "execution_count": 5,
      "metadata": {
        "id": "2sCNtHiSp0HQ"
      },
      "outputs": [],
      "source": [
        "# path to data\n",
        "data_path = './data/'"
      ]
    },
    {
      "cell_type": "markdown",
      "metadata": {
        "id": "ia_C6wVNp0HQ"
      },
      "source": [
        "### Data reader\n",
        "No need to go into details, this thing just downloads data, then parses it and makes three datasets from it:\n",
        "- training\n",
        "- validation\n",
        "- unlabeled\n",
        "\n",
        "Unlabeled data is not essential, but you may need it, for example, for a language model or to improve embeddings."
      ]
    },
    {
      "cell_type": "code",
      "execution_count": 6,
      "metadata": {
        "id": "meDnkjHGp0HQ"
      },
      "outputs": [],
      "source": [
        "downloader = Downloader(data_path=data_path)"
      ]
    },
    {
      "cell_type": "code",
      "execution_count": 7,
      "metadata": {
        "id": "KcZ7av6bp0HQ",
        "outputId": "2c9c479c-3998-4c02-dfd1-d7e75b3ca741",
        "colab": {
          "base_uri": "https://localhost:8080/"
        }
      },
      "outputs": [
        {
          "output_type": "stream",
          "name": "stderr",
          "text": [
            "single: 100%|██████████| 21/21 [00:09<00:00,  2.31it/s]\n",
            "multiple: 100%|██████████| 17/17 [00:10<00:00,  1.63it/s]\n"
          ]
        }
      ],
      "source": [
        "downloader.run()"
      ]
    },
    {
      "cell_type": "code",
      "execution_count": 8,
      "metadata": {
        "id": "fis3sv-dp0HR"
      },
      "outputs": [],
      "source": [
        "parser = Parser(data_path=data_path)"
      ]
    },
    {
      "cell_type": "code",
      "execution_count": 9,
      "metadata": {
        "id": "KozrrLp2p0HR",
        "colab": {
          "base_uri": "https://localhost:8080/"
        },
        "outputId": "42a2e811-0c22-40f7-9d5c-0f74694b287e"
      },
      "outputs": [
        {
          "output_type": "stream",
          "name": "stderr",
          "text": [
            "Reading: 100%|██████████| 38/38 [02:44<00:00,  4.33s/it]\n"
          ]
        }
      ],
      "source": [
        "unlabeled, train, valid = parser.run()"
      ]
    },
    {
      "cell_type": "markdown",
      "metadata": {
        "id": "Im3PZIj7p0HR"
      },
      "source": [
        "### Let's look at the datasets"
      ]
    },
    {
      "cell_type": "code",
      "execution_count": 10,
      "metadata": {
        "id": "pCMUqtrYp0HS",
        "colab": {
          "base_uri": "https://localhost:8080/",
          "height": 424
        },
        "outputId": "73997f1b-6f98-4735-9c76-960c8fa98a8d"
      },
      "outputs": [
        {
          "output_type": "execute_result",
          "data": {
            "text/plain": [
              "                                                 question  \\\n",
              "0       good night,         can you please tell me the...   \n",
              "1       will this rod fit a penn senator 115 l2 size 9...   \n",
              "2       at the product information, item weight is 30....   \n",
              "3       what's the measurement from the rear of the sc...   \n",
              "4                         will this work on co2 air guns?   \n",
              "...                                                   ...   \n",
              "137275  how do you determine the width of the wheel to...   \n",
              "137276  does it twist for forward and reverse or requi...   \n",
              "137277  will this fit the mk3 hunter version? its a 6....   \n",
              "137278  what exactly are the dimensions of the top pou...   \n",
              "137279  can you listen to both rooms at the same time ...   \n",
              "\n",
              "                                                 response  \n",
              "0       it depends of your carrier band. please consul...  \n",
              "1       i use both the 9/0 (115) and a 12/0 on this ro...  \n",
              "2       it did seem heavier when it was in the box, bu...  \n",
              "3       the place where the rear ring mounts is approx...  \n",
              "4       yes works great on alot of thing leather too b...  \n",
              "...                                                   ...  \n",
              "137275  typically your wheel size will be smaller than...  \n",
              "137276  twist like a normal throttle. does not have re...  \n",
              "137277  yes, that's what i have. it has very hard fini...  \n",
              "137278  depends. personal pan pizza: yes. large super ...  \n",
              "137279  in the split screen mode, you will be able to ...  \n",
              "\n",
              "[137280 rows x 2 columns]"
            ],
            "text/html": [
              "\n",
              "  <div id=\"df-c70fe8af-c303-44fa-8a00-215e2e64214b\" class=\"colab-df-container\">\n",
              "    <div>\n",
              "<style scoped>\n",
              "    .dataframe tbody tr th:only-of-type {\n",
              "        vertical-align: middle;\n",
              "    }\n",
              "\n",
              "    .dataframe tbody tr th {\n",
              "        vertical-align: top;\n",
              "    }\n",
              "\n",
              "    .dataframe thead th {\n",
              "        text-align: right;\n",
              "    }\n",
              "</style>\n",
              "<table border=\"1\" class=\"dataframe\">\n",
              "  <thead>\n",
              "    <tr style=\"text-align: right;\">\n",
              "      <th></th>\n",
              "      <th>question</th>\n",
              "      <th>response</th>\n",
              "    </tr>\n",
              "  </thead>\n",
              "  <tbody>\n",
              "    <tr>\n",
              "      <th>0</th>\n",
              "      <td>good night,         can you please tell me the...</td>\n",
              "      <td>it depends of your carrier band. please consul...</td>\n",
              "    </tr>\n",
              "    <tr>\n",
              "      <th>1</th>\n",
              "      <td>will this rod fit a penn senator 115 l2 size 9...</td>\n",
              "      <td>i use both the 9/0 (115) and a 12/0 on this ro...</td>\n",
              "    </tr>\n",
              "    <tr>\n",
              "      <th>2</th>\n",
              "      <td>at the product information, item weight is 30....</td>\n",
              "      <td>it did seem heavier when it was in the box, bu...</td>\n",
              "    </tr>\n",
              "    <tr>\n",
              "      <th>3</th>\n",
              "      <td>what's the measurement from the rear of the sc...</td>\n",
              "      <td>the place where the rear ring mounts is approx...</td>\n",
              "    </tr>\n",
              "    <tr>\n",
              "      <th>4</th>\n",
              "      <td>will this work on co2 air guns?</td>\n",
              "      <td>yes works great on alot of thing leather too b...</td>\n",
              "    </tr>\n",
              "    <tr>\n",
              "      <th>...</th>\n",
              "      <td>...</td>\n",
              "      <td>...</td>\n",
              "    </tr>\n",
              "    <tr>\n",
              "      <th>137275</th>\n",
              "      <td>how do you determine the width of the wheel to...</td>\n",
              "      <td>typically your wheel size will be smaller than...</td>\n",
              "    </tr>\n",
              "    <tr>\n",
              "      <th>137276</th>\n",
              "      <td>does it twist for forward and reverse or requi...</td>\n",
              "      <td>twist like a normal throttle. does not have re...</td>\n",
              "    </tr>\n",
              "    <tr>\n",
              "      <th>137277</th>\n",
              "      <td>will this fit the mk3 hunter version? its a 6....</td>\n",
              "      <td>yes, that's what i have. it has very hard fini...</td>\n",
              "    </tr>\n",
              "    <tr>\n",
              "      <th>137278</th>\n",
              "      <td>what exactly are the dimensions of the top pou...</td>\n",
              "      <td>depends. personal pan pizza: yes. large super ...</td>\n",
              "    </tr>\n",
              "    <tr>\n",
              "      <th>137279</th>\n",
              "      <td>can you listen to both rooms at the same time ...</td>\n",
              "      <td>in the split screen mode, you will be able to ...</td>\n",
              "    </tr>\n",
              "  </tbody>\n",
              "</table>\n",
              "<p>137280 rows × 2 columns</p>\n",
              "</div>\n",
              "    <div class=\"colab-df-buttons\">\n",
              "\n",
              "  <div class=\"colab-df-container\">\n",
              "    <button class=\"colab-df-convert\" onclick=\"convertToInteractive('df-c70fe8af-c303-44fa-8a00-215e2e64214b')\"\n",
              "            title=\"Convert this dataframe to an interactive table.\"\n",
              "            style=\"display:none;\">\n",
              "\n",
              "  <svg xmlns=\"http://www.w3.org/2000/svg\" height=\"24px\" viewBox=\"0 -960 960 960\">\n",
              "    <path d=\"M120-120v-720h720v720H120Zm60-500h600v-160H180v160Zm220 220h160v-160H400v160Zm0 220h160v-160H400v160ZM180-400h160v-160H180v160Zm440 0h160v-160H620v160ZM180-180h160v-160H180v160Zm440 0h160v-160H620v160Z\"/>\n",
              "  </svg>\n",
              "    </button>\n",
              "\n",
              "  <style>\n",
              "    .colab-df-container {\n",
              "      display:flex;\n",
              "      gap: 12px;\n",
              "    }\n",
              "\n",
              "    .colab-df-convert {\n",
              "      background-color: #E8F0FE;\n",
              "      border: none;\n",
              "      border-radius: 50%;\n",
              "      cursor: pointer;\n",
              "      display: none;\n",
              "      fill: #1967D2;\n",
              "      height: 32px;\n",
              "      padding: 0 0 0 0;\n",
              "      width: 32px;\n",
              "    }\n",
              "\n",
              "    .colab-df-convert:hover {\n",
              "      background-color: #E2EBFA;\n",
              "      box-shadow: 0px 1px 2px rgba(60, 64, 67, 0.3), 0px 1px 3px 1px rgba(60, 64, 67, 0.15);\n",
              "      fill: #174EA6;\n",
              "    }\n",
              "\n",
              "    .colab-df-buttons div {\n",
              "      margin-bottom: 4px;\n",
              "    }\n",
              "\n",
              "    [theme=dark] .colab-df-convert {\n",
              "      background-color: #3B4455;\n",
              "      fill: #D2E3FC;\n",
              "    }\n",
              "\n",
              "    [theme=dark] .colab-df-convert:hover {\n",
              "      background-color: #434B5C;\n",
              "      box-shadow: 0px 1px 3px 1px rgba(0, 0, 0, 0.15);\n",
              "      filter: drop-shadow(0px 1px 2px rgba(0, 0, 0, 0.3));\n",
              "      fill: #FFFFFF;\n",
              "    }\n",
              "  </style>\n",
              "\n",
              "    <script>\n",
              "      const buttonEl =\n",
              "        document.querySelector('#df-c70fe8af-c303-44fa-8a00-215e2e64214b button.colab-df-convert');\n",
              "      buttonEl.style.display =\n",
              "        google.colab.kernel.accessAllowed ? 'block' : 'none';\n",
              "\n",
              "      async function convertToInteractive(key) {\n",
              "        const element = document.querySelector('#df-c70fe8af-c303-44fa-8a00-215e2e64214b');\n",
              "        const dataTable =\n",
              "          await google.colab.kernel.invokeFunction('convertToInteractive',\n",
              "                                                    [key], {});\n",
              "        if (!dataTable) return;\n",
              "\n",
              "        const docLinkHtml = 'Like what you see? Visit the ' +\n",
              "          '<a target=\"_blank\" href=https://colab.research.google.com/notebooks/data_table.ipynb>data table notebook</a>'\n",
              "          + ' to learn more about interactive tables.';\n",
              "        element.innerHTML = '';\n",
              "        dataTable['output_type'] = 'display_data';\n",
              "        await google.colab.output.renderOutput(dataTable, element);\n",
              "        const docLink = document.createElement('div');\n",
              "        docLink.innerHTML = docLinkHtml;\n",
              "        element.appendChild(docLink);\n",
              "      }\n",
              "    </script>\n",
              "  </div>\n",
              "\n",
              "\n",
              "<div id=\"df-9897d742-83bd-4b52-8a61-b01cc532cd6b\">\n",
              "  <button class=\"colab-df-quickchart\" onclick=\"quickchart('df-9897d742-83bd-4b52-8a61-b01cc532cd6b')\"\n",
              "            title=\"Suggest charts\"\n",
              "            style=\"display:none;\">\n",
              "\n",
              "<svg xmlns=\"http://www.w3.org/2000/svg\" height=\"24px\"viewBox=\"0 0 24 24\"\n",
              "     width=\"24px\">\n",
              "    <g>\n",
              "        <path d=\"M19 3H5c-1.1 0-2 .9-2 2v14c0 1.1.9 2 2 2h14c1.1 0 2-.9 2-2V5c0-1.1-.9-2-2-2zM9 17H7v-7h2v7zm4 0h-2V7h2v10zm4 0h-2v-4h2v4z\"/>\n",
              "    </g>\n",
              "</svg>\n",
              "  </button>\n",
              "\n",
              "<style>\n",
              "  .colab-df-quickchart {\n",
              "      --bg-color: #E8F0FE;\n",
              "      --fill-color: #1967D2;\n",
              "      --hover-bg-color: #E2EBFA;\n",
              "      --hover-fill-color: #174EA6;\n",
              "      --disabled-fill-color: #AAA;\n",
              "      --disabled-bg-color: #DDD;\n",
              "  }\n",
              "\n",
              "  [theme=dark] .colab-df-quickchart {\n",
              "      --bg-color: #3B4455;\n",
              "      --fill-color: #D2E3FC;\n",
              "      --hover-bg-color: #434B5C;\n",
              "      --hover-fill-color: #FFFFFF;\n",
              "      --disabled-bg-color: #3B4455;\n",
              "      --disabled-fill-color: #666;\n",
              "  }\n",
              "\n",
              "  .colab-df-quickchart {\n",
              "    background-color: var(--bg-color);\n",
              "    border: none;\n",
              "    border-radius: 50%;\n",
              "    cursor: pointer;\n",
              "    display: none;\n",
              "    fill: var(--fill-color);\n",
              "    height: 32px;\n",
              "    padding: 0;\n",
              "    width: 32px;\n",
              "  }\n",
              "\n",
              "  .colab-df-quickchart:hover {\n",
              "    background-color: var(--hover-bg-color);\n",
              "    box-shadow: 0 1px 2px rgba(60, 64, 67, 0.3), 0 1px 3px 1px rgba(60, 64, 67, 0.15);\n",
              "    fill: var(--button-hover-fill-color);\n",
              "  }\n",
              "\n",
              "  .colab-df-quickchart-complete:disabled,\n",
              "  .colab-df-quickchart-complete:disabled:hover {\n",
              "    background-color: var(--disabled-bg-color);\n",
              "    fill: var(--disabled-fill-color);\n",
              "    box-shadow: none;\n",
              "  }\n",
              "\n",
              "  .colab-df-spinner {\n",
              "    border: 2px solid var(--fill-color);\n",
              "    border-color: transparent;\n",
              "    border-bottom-color: var(--fill-color);\n",
              "    animation:\n",
              "      spin 1s steps(1) infinite;\n",
              "  }\n",
              "\n",
              "  @keyframes spin {\n",
              "    0% {\n",
              "      border-color: transparent;\n",
              "      border-bottom-color: var(--fill-color);\n",
              "      border-left-color: var(--fill-color);\n",
              "    }\n",
              "    20% {\n",
              "      border-color: transparent;\n",
              "      border-left-color: var(--fill-color);\n",
              "      border-top-color: var(--fill-color);\n",
              "    }\n",
              "    30% {\n",
              "      border-color: transparent;\n",
              "      border-left-color: var(--fill-color);\n",
              "      border-top-color: var(--fill-color);\n",
              "      border-right-color: var(--fill-color);\n",
              "    }\n",
              "    40% {\n",
              "      border-color: transparent;\n",
              "      border-right-color: var(--fill-color);\n",
              "      border-top-color: var(--fill-color);\n",
              "    }\n",
              "    60% {\n",
              "      border-color: transparent;\n",
              "      border-right-color: var(--fill-color);\n",
              "    }\n",
              "    80% {\n",
              "      border-color: transparent;\n",
              "      border-right-color: var(--fill-color);\n",
              "      border-bottom-color: var(--fill-color);\n",
              "    }\n",
              "    90% {\n",
              "      border-color: transparent;\n",
              "      border-bottom-color: var(--fill-color);\n",
              "    }\n",
              "  }\n",
              "</style>\n",
              "\n",
              "  <script>\n",
              "    async function quickchart(key) {\n",
              "      const quickchartButtonEl =\n",
              "        document.querySelector('#' + key + ' button');\n",
              "      quickchartButtonEl.disabled = true;  // To prevent multiple clicks.\n",
              "      quickchartButtonEl.classList.add('colab-df-spinner');\n",
              "      try {\n",
              "        const charts = await google.colab.kernel.invokeFunction(\n",
              "            'suggestCharts', [key], {});\n",
              "      } catch (error) {\n",
              "        console.error('Error during call to suggestCharts:', error);\n",
              "      }\n",
              "      quickchartButtonEl.classList.remove('colab-df-spinner');\n",
              "      quickchartButtonEl.classList.add('colab-df-quickchart-complete');\n",
              "    }\n",
              "    (() => {\n",
              "      let quickchartButtonEl =\n",
              "        document.querySelector('#df-9897d742-83bd-4b52-8a61-b01cc532cd6b button');\n",
              "      quickchartButtonEl.style.display =\n",
              "        google.colab.kernel.accessAllowed ? 'block' : 'none';\n",
              "    })();\n",
              "  </script>\n",
              "</div>\n",
              "    </div>\n",
              "  </div>\n"
            ],
            "application/vnd.google.colaboratory.intrinsic+json": {
              "type": "dataframe",
              "variable_name": "unlabeled"
            }
          },
          "metadata": {},
          "execution_count": 10
        }
      ],
      "source": [
        "unlabeled"
      ]
    },
    {
      "cell_type": "code",
      "execution_count": 11,
      "metadata": {
        "id": "Ga-y-PQcp0HS",
        "colab": {
          "base_uri": "https://localhost:8080/",
          "height": 424
        },
        "outputId": "c5be0e6b-93a9-4e1e-ea03-101cec28e417"
      },
      "outputs": [
        {
          "output_type": "execute_result",
          "data": {
            "text/plain": [
              "                                                 question  \\\n",
              "0       i'm from oklahoma and my order for this item w...   \n",
              "1              does it come in a plastic or glass bottle?   \n",
              "2       do you need to set up with pc & disk before us...   \n",
              "3                                  how long is the table?   \n",
              "4                       how hot does the temperature get?   \n",
              "...                                                   ...   \n",
              "249995                        do these come with nipples?   \n",
              "249996  is this a \"beach\" volleyball? (softer/differen...   \n",
              "249997  does the icon hd have caller id functionality?...   \n",
              "249998  is it safe to sleep next to this battery in a ...   \n",
              "249999  will these fit a 2015 dodge ram bighorn quad c...   \n",
              "\n",
              "                                                 response  \\\n",
              "0       i am from indianapolis and i had my order canc...   \n",
              "1                                                   glass   \n",
              "2       no its you paired to my note3 and ipad no worr...   \n",
              "3       approx. 24-30 inches. it is so nice and sturdy...   \n",
              "4       it gets to 400 which is perfect for how course...   \n",
              "...                                                   ...   \n",
              "249995  yes 6 bottles 6 nipples 6 bottle caps. no extr...   \n",
              "249996  it might be a little softer not really l sure ...   \n",
              "249997  no. it will say the phone number but not the c...   \n",
              "249998  i would say yes since it suffers poor cell con...   \n",
              "249999  hello yes they will fit that model and the ins...   \n",
              "\n",
              "                           category  \n",
              "0               sports and outdoors  \n",
              "1          grocery and gourmet food  \n",
              "2       cell phones and accessories  \n",
              "3                            beauty  \n",
              "4                            beauty  \n",
              "...                             ...  \n",
              "249995                         baby  \n",
              "249996          sports and outdoors  \n",
              "249997  cell phones and accessories  \n",
              "249998                   automotive  \n",
              "249999                   automotive  \n",
              "\n",
              "[250000 rows x 3 columns]"
            ],
            "text/html": [
              "\n",
              "  <div id=\"df-7a67cf14-b14d-4e07-b56e-3531c409dc10\" class=\"colab-df-container\">\n",
              "    <div>\n",
              "<style scoped>\n",
              "    .dataframe tbody tr th:only-of-type {\n",
              "        vertical-align: middle;\n",
              "    }\n",
              "\n",
              "    .dataframe tbody tr th {\n",
              "        vertical-align: top;\n",
              "    }\n",
              "\n",
              "    .dataframe thead th {\n",
              "        text-align: right;\n",
              "    }\n",
              "</style>\n",
              "<table border=\"1\" class=\"dataframe\">\n",
              "  <thead>\n",
              "    <tr style=\"text-align: right;\">\n",
              "      <th></th>\n",
              "      <th>question</th>\n",
              "      <th>response</th>\n",
              "      <th>category</th>\n",
              "    </tr>\n",
              "  </thead>\n",
              "  <tbody>\n",
              "    <tr>\n",
              "      <th>0</th>\n",
              "      <td>i'm from oklahoma and my order for this item w...</td>\n",
              "      <td>i am from indianapolis and i had my order canc...</td>\n",
              "      <td>sports and outdoors</td>\n",
              "    </tr>\n",
              "    <tr>\n",
              "      <th>1</th>\n",
              "      <td>does it come in a plastic or glass bottle?</td>\n",
              "      <td>glass</td>\n",
              "      <td>grocery and gourmet food</td>\n",
              "    </tr>\n",
              "    <tr>\n",
              "      <th>2</th>\n",
              "      <td>do you need to set up with pc &amp; disk before us...</td>\n",
              "      <td>no its you paired to my note3 and ipad no worr...</td>\n",
              "      <td>cell phones and accessories</td>\n",
              "    </tr>\n",
              "    <tr>\n",
              "      <th>3</th>\n",
              "      <td>how long is the table?</td>\n",
              "      <td>approx. 24-30 inches. it is so nice and sturdy...</td>\n",
              "      <td>beauty</td>\n",
              "    </tr>\n",
              "    <tr>\n",
              "      <th>4</th>\n",
              "      <td>how hot does the temperature get?</td>\n",
              "      <td>it gets to 400 which is perfect for how course...</td>\n",
              "      <td>beauty</td>\n",
              "    </tr>\n",
              "    <tr>\n",
              "      <th>...</th>\n",
              "      <td>...</td>\n",
              "      <td>...</td>\n",
              "      <td>...</td>\n",
              "    </tr>\n",
              "    <tr>\n",
              "      <th>249995</th>\n",
              "      <td>do these come with nipples?</td>\n",
              "      <td>yes 6 bottles 6 nipples 6 bottle caps. no extr...</td>\n",
              "      <td>baby</td>\n",
              "    </tr>\n",
              "    <tr>\n",
              "      <th>249996</th>\n",
              "      <td>is this a \"beach\" volleyball? (softer/differen...</td>\n",
              "      <td>it might be a little softer not really l sure ...</td>\n",
              "      <td>sports and outdoors</td>\n",
              "    </tr>\n",
              "    <tr>\n",
              "      <th>249997</th>\n",
              "      <td>does the icon hd have caller id functionality?...</td>\n",
              "      <td>no. it will say the phone number but not the c...</td>\n",
              "      <td>cell phones and accessories</td>\n",
              "    </tr>\n",
              "    <tr>\n",
              "      <th>249998</th>\n",
              "      <td>is it safe to sleep next to this battery in a ...</td>\n",
              "      <td>i would say yes since it suffers poor cell con...</td>\n",
              "      <td>automotive</td>\n",
              "    </tr>\n",
              "    <tr>\n",
              "      <th>249999</th>\n",
              "      <td>will these fit a 2015 dodge ram bighorn quad c...</td>\n",
              "      <td>hello yes they will fit that model and the ins...</td>\n",
              "      <td>automotive</td>\n",
              "    </tr>\n",
              "  </tbody>\n",
              "</table>\n",
              "<p>250000 rows × 3 columns</p>\n",
              "</div>\n",
              "    <div class=\"colab-df-buttons\">\n",
              "\n",
              "  <div class=\"colab-df-container\">\n",
              "    <button class=\"colab-df-convert\" onclick=\"convertToInteractive('df-7a67cf14-b14d-4e07-b56e-3531c409dc10')\"\n",
              "            title=\"Convert this dataframe to an interactive table.\"\n",
              "            style=\"display:none;\">\n",
              "\n",
              "  <svg xmlns=\"http://www.w3.org/2000/svg\" height=\"24px\" viewBox=\"0 -960 960 960\">\n",
              "    <path d=\"M120-120v-720h720v720H120Zm60-500h600v-160H180v160Zm220 220h160v-160H400v160Zm0 220h160v-160H400v160ZM180-400h160v-160H180v160Zm440 0h160v-160H620v160ZM180-180h160v-160H180v160Zm440 0h160v-160H620v160Z\"/>\n",
              "  </svg>\n",
              "    </button>\n",
              "\n",
              "  <style>\n",
              "    .colab-df-container {\n",
              "      display:flex;\n",
              "      gap: 12px;\n",
              "    }\n",
              "\n",
              "    .colab-df-convert {\n",
              "      background-color: #E8F0FE;\n",
              "      border: none;\n",
              "      border-radius: 50%;\n",
              "      cursor: pointer;\n",
              "      display: none;\n",
              "      fill: #1967D2;\n",
              "      height: 32px;\n",
              "      padding: 0 0 0 0;\n",
              "      width: 32px;\n",
              "    }\n",
              "\n",
              "    .colab-df-convert:hover {\n",
              "      background-color: #E2EBFA;\n",
              "      box-shadow: 0px 1px 2px rgba(60, 64, 67, 0.3), 0px 1px 3px 1px rgba(60, 64, 67, 0.15);\n",
              "      fill: #174EA6;\n",
              "    }\n",
              "\n",
              "    .colab-df-buttons div {\n",
              "      margin-bottom: 4px;\n",
              "    }\n",
              "\n",
              "    [theme=dark] .colab-df-convert {\n",
              "      background-color: #3B4455;\n",
              "      fill: #D2E3FC;\n",
              "    }\n",
              "\n",
              "    [theme=dark] .colab-df-convert:hover {\n",
              "      background-color: #434B5C;\n",
              "      box-shadow: 0px 1px 3px 1px rgba(0, 0, 0, 0.15);\n",
              "      filter: drop-shadow(0px 1px 2px rgba(0, 0, 0, 0.3));\n",
              "      fill: #FFFFFF;\n",
              "    }\n",
              "  </style>\n",
              "\n",
              "    <script>\n",
              "      const buttonEl =\n",
              "        document.querySelector('#df-7a67cf14-b14d-4e07-b56e-3531c409dc10 button.colab-df-convert');\n",
              "      buttonEl.style.display =\n",
              "        google.colab.kernel.accessAllowed ? 'block' : 'none';\n",
              "\n",
              "      async function convertToInteractive(key) {\n",
              "        const element = document.querySelector('#df-7a67cf14-b14d-4e07-b56e-3531c409dc10');\n",
              "        const dataTable =\n",
              "          await google.colab.kernel.invokeFunction('convertToInteractive',\n",
              "                                                    [key], {});\n",
              "        if (!dataTable) return;\n",
              "\n",
              "        const docLinkHtml = 'Like what you see? Visit the ' +\n",
              "          '<a target=\"_blank\" href=https://colab.research.google.com/notebooks/data_table.ipynb>data table notebook</a>'\n",
              "          + ' to learn more about interactive tables.';\n",
              "        element.innerHTML = '';\n",
              "        dataTable['output_type'] = 'display_data';\n",
              "        await google.colab.output.renderOutput(dataTable, element);\n",
              "        const docLink = document.createElement('div');\n",
              "        docLink.innerHTML = docLinkHtml;\n",
              "        element.appendChild(docLink);\n",
              "      }\n",
              "    </script>\n",
              "  </div>\n",
              "\n",
              "\n",
              "<div id=\"df-42fbbcac-663b-483c-b78d-dcda229bc28b\">\n",
              "  <button class=\"colab-df-quickchart\" onclick=\"quickchart('df-42fbbcac-663b-483c-b78d-dcda229bc28b')\"\n",
              "            title=\"Suggest charts\"\n",
              "            style=\"display:none;\">\n",
              "\n",
              "<svg xmlns=\"http://www.w3.org/2000/svg\" height=\"24px\"viewBox=\"0 0 24 24\"\n",
              "     width=\"24px\">\n",
              "    <g>\n",
              "        <path d=\"M19 3H5c-1.1 0-2 .9-2 2v14c0 1.1.9 2 2 2h14c1.1 0 2-.9 2-2V5c0-1.1-.9-2-2-2zM9 17H7v-7h2v7zm4 0h-2V7h2v10zm4 0h-2v-4h2v4z\"/>\n",
              "    </g>\n",
              "</svg>\n",
              "  </button>\n",
              "\n",
              "<style>\n",
              "  .colab-df-quickchart {\n",
              "      --bg-color: #E8F0FE;\n",
              "      --fill-color: #1967D2;\n",
              "      --hover-bg-color: #E2EBFA;\n",
              "      --hover-fill-color: #174EA6;\n",
              "      --disabled-fill-color: #AAA;\n",
              "      --disabled-bg-color: #DDD;\n",
              "  }\n",
              "\n",
              "  [theme=dark] .colab-df-quickchart {\n",
              "      --bg-color: #3B4455;\n",
              "      --fill-color: #D2E3FC;\n",
              "      --hover-bg-color: #434B5C;\n",
              "      --hover-fill-color: #FFFFFF;\n",
              "      --disabled-bg-color: #3B4455;\n",
              "      --disabled-fill-color: #666;\n",
              "  }\n",
              "\n",
              "  .colab-df-quickchart {\n",
              "    background-color: var(--bg-color);\n",
              "    border: none;\n",
              "    border-radius: 50%;\n",
              "    cursor: pointer;\n",
              "    display: none;\n",
              "    fill: var(--fill-color);\n",
              "    height: 32px;\n",
              "    padding: 0;\n",
              "    width: 32px;\n",
              "  }\n",
              "\n",
              "  .colab-df-quickchart:hover {\n",
              "    background-color: var(--hover-bg-color);\n",
              "    box-shadow: 0 1px 2px rgba(60, 64, 67, 0.3), 0 1px 3px 1px rgba(60, 64, 67, 0.15);\n",
              "    fill: var(--button-hover-fill-color);\n",
              "  }\n",
              "\n",
              "  .colab-df-quickchart-complete:disabled,\n",
              "  .colab-df-quickchart-complete:disabled:hover {\n",
              "    background-color: var(--disabled-bg-color);\n",
              "    fill: var(--disabled-fill-color);\n",
              "    box-shadow: none;\n",
              "  }\n",
              "\n",
              "  .colab-df-spinner {\n",
              "    border: 2px solid var(--fill-color);\n",
              "    border-color: transparent;\n",
              "    border-bottom-color: var(--fill-color);\n",
              "    animation:\n",
              "      spin 1s steps(1) infinite;\n",
              "  }\n",
              "\n",
              "  @keyframes spin {\n",
              "    0% {\n",
              "      border-color: transparent;\n",
              "      border-bottom-color: var(--fill-color);\n",
              "      border-left-color: var(--fill-color);\n",
              "    }\n",
              "    20% {\n",
              "      border-color: transparent;\n",
              "      border-left-color: var(--fill-color);\n",
              "      border-top-color: var(--fill-color);\n",
              "    }\n",
              "    30% {\n",
              "      border-color: transparent;\n",
              "      border-left-color: var(--fill-color);\n",
              "      border-top-color: var(--fill-color);\n",
              "      border-right-color: var(--fill-color);\n",
              "    }\n",
              "    40% {\n",
              "      border-color: transparent;\n",
              "      border-right-color: var(--fill-color);\n",
              "      border-top-color: var(--fill-color);\n",
              "    }\n",
              "    60% {\n",
              "      border-color: transparent;\n",
              "      border-right-color: var(--fill-color);\n",
              "    }\n",
              "    80% {\n",
              "      border-color: transparent;\n",
              "      border-right-color: var(--fill-color);\n",
              "      border-bottom-color: var(--fill-color);\n",
              "    }\n",
              "    90% {\n",
              "      border-color: transparent;\n",
              "      border-bottom-color: var(--fill-color);\n",
              "    }\n",
              "  }\n",
              "</style>\n",
              "\n",
              "  <script>\n",
              "    async function quickchart(key) {\n",
              "      const quickchartButtonEl =\n",
              "        document.querySelector('#' + key + ' button');\n",
              "      quickchartButtonEl.disabled = true;  // To prevent multiple clicks.\n",
              "      quickchartButtonEl.classList.add('colab-df-spinner');\n",
              "      try {\n",
              "        const charts = await google.colab.kernel.invokeFunction(\n",
              "            'suggestCharts', [key], {});\n",
              "      } catch (error) {\n",
              "        console.error('Error during call to suggestCharts:', error);\n",
              "      }\n",
              "      quickchartButtonEl.classList.remove('colab-df-spinner');\n",
              "      quickchartButtonEl.classList.add('colab-df-quickchart-complete');\n",
              "    }\n",
              "    (() => {\n",
              "      let quickchartButtonEl =\n",
              "        document.querySelector('#df-42fbbcac-663b-483c-b78d-dcda229bc28b button');\n",
              "      quickchartButtonEl.style.display =\n",
              "        google.colab.kernel.accessAllowed ? 'block' : 'none';\n",
              "    })();\n",
              "  </script>\n",
              "</div>\n",
              "    </div>\n",
              "  </div>\n"
            ],
            "application/vnd.google.colaboratory.intrinsic+json": {
              "type": "dataframe",
              "variable_name": "train"
            }
          },
          "metadata": {},
          "execution_count": 11
        }
      ],
      "source": [
        "train"
      ]
    },
    {
      "cell_type": "code",
      "execution_count": 12,
      "metadata": {
        "id": "MXOhZ3EEp0HS",
        "colab": {
          "base_uri": "https://localhost:8080/",
          "height": 424
        },
        "outputId": "1d128907-400f-44db-b77c-b10ffcd0b229"
      },
      "outputs": [
        {
          "output_type": "execute_result",
          "data": {
            "text/plain": [
              "                                                question  \\\n",
              "0      hi, this can fit in a spinning bycicle? can he...   \n",
              "1      is there a way to take pictures throgh this sc...   \n",
              "2      will this fit the iphone 5 with defender otter...   \n",
              "3                         im confused do you get 1 or 3?   \n",
              "4                 how many qc465a disc pads in a package   \n",
              "...                                                  ...   \n",
              "49995  can you strip it bare? i dont need that stuff ...   \n",
              "49996                          are these phones unlocked   \n",
              "49997  does this mirror fit a 2004 jetta? amazon says...   \n",
              "49998  does it come with a charger if not what type d...   \n",
              "49999               can battery be changed if they died?   \n",
              "\n",
              "                                                response  \\\n",
              "0      if you can fit it on your spin bike it would p...   \n",
              "1      an adapter is available for some cameras. you ...   \n",
              "2      yes, this pouch for the iphone 5 with an otter...   \n",
              "3      you get one.  i just purchased three different...   \n",
              "4      4 2 left front 2 right front everything you ne...   \n",
              "...                                                  ...   \n",
              "49995              yes, most of the pieces are removable   \n",
              "49996  this is such an old phone you should buy a new...   \n",
              "49997  it fit my 2004 passat wagon... so there is a v...   \n",
              "49998  garbage phone do not buy... lasted less then 2...   \n",
              "49999                             it takes aa batteries.   \n",
              "\n",
              "                          category  \n",
              "0              sports and outdoors  \n",
              "1              sports and outdoors  \n",
              "2              sports and outdoors  \n",
              "3                     pet supplies  \n",
              "4                       automotive  \n",
              "...                            ...  \n",
              "49995          sports and outdoors  \n",
              "49996  cell phones and accessories  \n",
              "49997                   automotive  \n",
              "49998  cell phones and accessories  \n",
              "49999              office products  \n",
              "\n",
              "[50000 rows x 3 columns]"
            ],
            "text/html": [
              "\n",
              "  <div id=\"df-5558103e-6c7b-411b-af7d-267c4ad1c424\" class=\"colab-df-container\">\n",
              "    <div>\n",
              "<style scoped>\n",
              "    .dataframe tbody tr th:only-of-type {\n",
              "        vertical-align: middle;\n",
              "    }\n",
              "\n",
              "    .dataframe tbody tr th {\n",
              "        vertical-align: top;\n",
              "    }\n",
              "\n",
              "    .dataframe thead th {\n",
              "        text-align: right;\n",
              "    }\n",
              "</style>\n",
              "<table border=\"1\" class=\"dataframe\">\n",
              "  <thead>\n",
              "    <tr style=\"text-align: right;\">\n",
              "      <th></th>\n",
              "      <th>question</th>\n",
              "      <th>response</th>\n",
              "      <th>category</th>\n",
              "    </tr>\n",
              "  </thead>\n",
              "  <tbody>\n",
              "    <tr>\n",
              "      <th>0</th>\n",
              "      <td>hi, this can fit in a spinning bycicle? can he...</td>\n",
              "      <td>if you can fit it on your spin bike it would p...</td>\n",
              "      <td>sports and outdoors</td>\n",
              "    </tr>\n",
              "    <tr>\n",
              "      <th>1</th>\n",
              "      <td>is there a way to take pictures throgh this sc...</td>\n",
              "      <td>an adapter is available for some cameras. you ...</td>\n",
              "      <td>sports and outdoors</td>\n",
              "    </tr>\n",
              "    <tr>\n",
              "      <th>2</th>\n",
              "      <td>will this fit the iphone 5 with defender otter...</td>\n",
              "      <td>yes, this pouch for the iphone 5 with an otter...</td>\n",
              "      <td>sports and outdoors</td>\n",
              "    </tr>\n",
              "    <tr>\n",
              "      <th>3</th>\n",
              "      <td>im confused do you get 1 or 3?</td>\n",
              "      <td>you get one.  i just purchased three different...</td>\n",
              "      <td>pet supplies</td>\n",
              "    </tr>\n",
              "    <tr>\n",
              "      <th>4</th>\n",
              "      <td>how many qc465a disc pads in a package</td>\n",
              "      <td>4 2 left front 2 right front everything you ne...</td>\n",
              "      <td>automotive</td>\n",
              "    </tr>\n",
              "    <tr>\n",
              "      <th>...</th>\n",
              "      <td>...</td>\n",
              "      <td>...</td>\n",
              "      <td>...</td>\n",
              "    </tr>\n",
              "    <tr>\n",
              "      <th>49995</th>\n",
              "      <td>can you strip it bare? i dont need that stuff ...</td>\n",
              "      <td>yes, most of the pieces are removable</td>\n",
              "      <td>sports and outdoors</td>\n",
              "    </tr>\n",
              "    <tr>\n",
              "      <th>49996</th>\n",
              "      <td>are these phones unlocked</td>\n",
              "      <td>this is such an old phone you should buy a new...</td>\n",
              "      <td>cell phones and accessories</td>\n",
              "    </tr>\n",
              "    <tr>\n",
              "      <th>49997</th>\n",
              "      <td>does this mirror fit a 2004 jetta? amazon says...</td>\n",
              "      <td>it fit my 2004 passat wagon... so there is a v...</td>\n",
              "      <td>automotive</td>\n",
              "    </tr>\n",
              "    <tr>\n",
              "      <th>49998</th>\n",
              "      <td>does it come with a charger if not what type d...</td>\n",
              "      <td>garbage phone do not buy... lasted less then 2...</td>\n",
              "      <td>cell phones and accessories</td>\n",
              "    </tr>\n",
              "    <tr>\n",
              "      <th>49999</th>\n",
              "      <td>can battery be changed if they died?</td>\n",
              "      <td>it takes aa batteries.</td>\n",
              "      <td>office products</td>\n",
              "    </tr>\n",
              "  </tbody>\n",
              "</table>\n",
              "<p>50000 rows × 3 columns</p>\n",
              "</div>\n",
              "    <div class=\"colab-df-buttons\">\n",
              "\n",
              "  <div class=\"colab-df-container\">\n",
              "    <button class=\"colab-df-convert\" onclick=\"convertToInteractive('df-5558103e-6c7b-411b-af7d-267c4ad1c424')\"\n",
              "            title=\"Convert this dataframe to an interactive table.\"\n",
              "            style=\"display:none;\">\n",
              "\n",
              "  <svg xmlns=\"http://www.w3.org/2000/svg\" height=\"24px\" viewBox=\"0 -960 960 960\">\n",
              "    <path d=\"M120-120v-720h720v720H120Zm60-500h600v-160H180v160Zm220 220h160v-160H400v160Zm0 220h160v-160H400v160ZM180-400h160v-160H180v160Zm440 0h160v-160H620v160ZM180-180h160v-160H180v160Zm440 0h160v-160H620v160Z\"/>\n",
              "  </svg>\n",
              "    </button>\n",
              "\n",
              "  <style>\n",
              "    .colab-df-container {\n",
              "      display:flex;\n",
              "      gap: 12px;\n",
              "    }\n",
              "\n",
              "    .colab-df-convert {\n",
              "      background-color: #E8F0FE;\n",
              "      border: none;\n",
              "      border-radius: 50%;\n",
              "      cursor: pointer;\n",
              "      display: none;\n",
              "      fill: #1967D2;\n",
              "      height: 32px;\n",
              "      padding: 0 0 0 0;\n",
              "      width: 32px;\n",
              "    }\n",
              "\n",
              "    .colab-df-convert:hover {\n",
              "      background-color: #E2EBFA;\n",
              "      box-shadow: 0px 1px 2px rgba(60, 64, 67, 0.3), 0px 1px 3px 1px rgba(60, 64, 67, 0.15);\n",
              "      fill: #174EA6;\n",
              "    }\n",
              "\n",
              "    .colab-df-buttons div {\n",
              "      margin-bottom: 4px;\n",
              "    }\n",
              "\n",
              "    [theme=dark] .colab-df-convert {\n",
              "      background-color: #3B4455;\n",
              "      fill: #D2E3FC;\n",
              "    }\n",
              "\n",
              "    [theme=dark] .colab-df-convert:hover {\n",
              "      background-color: #434B5C;\n",
              "      box-shadow: 0px 1px 3px 1px rgba(0, 0, 0, 0.15);\n",
              "      filter: drop-shadow(0px 1px 2px rgba(0, 0, 0, 0.3));\n",
              "      fill: #FFFFFF;\n",
              "    }\n",
              "  </style>\n",
              "\n",
              "    <script>\n",
              "      const buttonEl =\n",
              "        document.querySelector('#df-5558103e-6c7b-411b-af7d-267c4ad1c424 button.colab-df-convert');\n",
              "      buttonEl.style.display =\n",
              "        google.colab.kernel.accessAllowed ? 'block' : 'none';\n",
              "\n",
              "      async function convertToInteractive(key) {\n",
              "        const element = document.querySelector('#df-5558103e-6c7b-411b-af7d-267c4ad1c424');\n",
              "        const dataTable =\n",
              "          await google.colab.kernel.invokeFunction('convertToInteractive',\n",
              "                                                    [key], {});\n",
              "        if (!dataTable) return;\n",
              "\n",
              "        const docLinkHtml = 'Like what you see? Visit the ' +\n",
              "          '<a target=\"_blank\" href=https://colab.research.google.com/notebooks/data_table.ipynb>data table notebook</a>'\n",
              "          + ' to learn more about interactive tables.';\n",
              "        element.innerHTML = '';\n",
              "        dataTable['output_type'] = 'display_data';\n",
              "        await google.colab.output.renderOutput(dataTable, element);\n",
              "        const docLink = document.createElement('div');\n",
              "        docLink.innerHTML = docLinkHtml;\n",
              "        element.appendChild(docLink);\n",
              "      }\n",
              "    </script>\n",
              "  </div>\n",
              "\n",
              "\n",
              "<div id=\"df-fd6bb031-48a2-4671-b8fc-b90b37684770\">\n",
              "  <button class=\"colab-df-quickchart\" onclick=\"quickchart('df-fd6bb031-48a2-4671-b8fc-b90b37684770')\"\n",
              "            title=\"Suggest charts\"\n",
              "            style=\"display:none;\">\n",
              "\n",
              "<svg xmlns=\"http://www.w3.org/2000/svg\" height=\"24px\"viewBox=\"0 0 24 24\"\n",
              "     width=\"24px\">\n",
              "    <g>\n",
              "        <path d=\"M19 3H5c-1.1 0-2 .9-2 2v14c0 1.1.9 2 2 2h14c1.1 0 2-.9 2-2V5c0-1.1-.9-2-2-2zM9 17H7v-7h2v7zm4 0h-2V7h2v10zm4 0h-2v-4h2v4z\"/>\n",
              "    </g>\n",
              "</svg>\n",
              "  </button>\n",
              "\n",
              "<style>\n",
              "  .colab-df-quickchart {\n",
              "      --bg-color: #E8F0FE;\n",
              "      --fill-color: #1967D2;\n",
              "      --hover-bg-color: #E2EBFA;\n",
              "      --hover-fill-color: #174EA6;\n",
              "      --disabled-fill-color: #AAA;\n",
              "      --disabled-bg-color: #DDD;\n",
              "  }\n",
              "\n",
              "  [theme=dark] .colab-df-quickchart {\n",
              "      --bg-color: #3B4455;\n",
              "      --fill-color: #D2E3FC;\n",
              "      --hover-bg-color: #434B5C;\n",
              "      --hover-fill-color: #FFFFFF;\n",
              "      --disabled-bg-color: #3B4455;\n",
              "      --disabled-fill-color: #666;\n",
              "  }\n",
              "\n",
              "  .colab-df-quickchart {\n",
              "    background-color: var(--bg-color);\n",
              "    border: none;\n",
              "    border-radius: 50%;\n",
              "    cursor: pointer;\n",
              "    display: none;\n",
              "    fill: var(--fill-color);\n",
              "    height: 32px;\n",
              "    padding: 0;\n",
              "    width: 32px;\n",
              "  }\n",
              "\n",
              "  .colab-df-quickchart:hover {\n",
              "    background-color: var(--hover-bg-color);\n",
              "    box-shadow: 0 1px 2px rgba(60, 64, 67, 0.3), 0 1px 3px 1px rgba(60, 64, 67, 0.15);\n",
              "    fill: var(--button-hover-fill-color);\n",
              "  }\n",
              "\n",
              "  .colab-df-quickchart-complete:disabled,\n",
              "  .colab-df-quickchart-complete:disabled:hover {\n",
              "    background-color: var(--disabled-bg-color);\n",
              "    fill: var(--disabled-fill-color);\n",
              "    box-shadow: none;\n",
              "  }\n",
              "\n",
              "  .colab-df-spinner {\n",
              "    border: 2px solid var(--fill-color);\n",
              "    border-color: transparent;\n",
              "    border-bottom-color: var(--fill-color);\n",
              "    animation:\n",
              "      spin 1s steps(1) infinite;\n",
              "  }\n",
              "\n",
              "  @keyframes spin {\n",
              "    0% {\n",
              "      border-color: transparent;\n",
              "      border-bottom-color: var(--fill-color);\n",
              "      border-left-color: var(--fill-color);\n",
              "    }\n",
              "    20% {\n",
              "      border-color: transparent;\n",
              "      border-left-color: var(--fill-color);\n",
              "      border-top-color: var(--fill-color);\n",
              "    }\n",
              "    30% {\n",
              "      border-color: transparent;\n",
              "      border-left-color: var(--fill-color);\n",
              "      border-top-color: var(--fill-color);\n",
              "      border-right-color: var(--fill-color);\n",
              "    }\n",
              "    40% {\n",
              "      border-color: transparent;\n",
              "      border-right-color: var(--fill-color);\n",
              "      border-top-color: var(--fill-color);\n",
              "    }\n",
              "    60% {\n",
              "      border-color: transparent;\n",
              "      border-right-color: var(--fill-color);\n",
              "    }\n",
              "    80% {\n",
              "      border-color: transparent;\n",
              "      border-right-color: var(--fill-color);\n",
              "      border-bottom-color: var(--fill-color);\n",
              "    }\n",
              "    90% {\n",
              "      border-color: transparent;\n",
              "      border-bottom-color: var(--fill-color);\n",
              "    }\n",
              "  }\n",
              "</style>\n",
              "\n",
              "  <script>\n",
              "    async function quickchart(key) {\n",
              "      const quickchartButtonEl =\n",
              "        document.querySelector('#' + key + ' button');\n",
              "      quickchartButtonEl.disabled = true;  // To prevent multiple clicks.\n",
              "      quickchartButtonEl.classList.add('colab-df-spinner');\n",
              "      try {\n",
              "        const charts = await google.colab.kernel.invokeFunction(\n",
              "            'suggestCharts', [key], {});\n",
              "      } catch (error) {\n",
              "        console.error('Error during call to suggestCharts:', error);\n",
              "      }\n",
              "      quickchartButtonEl.classList.remove('colab-df-spinner');\n",
              "      quickchartButtonEl.classList.add('colab-df-quickchart-complete');\n",
              "    }\n",
              "    (() => {\n",
              "      let quickchartButtonEl =\n",
              "        document.querySelector('#df-fd6bb031-48a2-4671-b8fc-b90b37684770 button');\n",
              "      quickchartButtonEl.style.display =\n",
              "        google.colab.kernel.accessAllowed ? 'block' : 'none';\n",
              "    })();\n",
              "  </script>\n",
              "</div>\n",
              "    </div>\n",
              "  </div>\n"
            ],
            "application/vnd.google.colaboratory.intrinsic+json": {
              "type": "dataframe",
              "variable_name": "valid",
              "summary": "{\n  \"name\": \"valid\",\n  \"rows\": 50000,\n  \"fields\": [\n    {\n      \"column\": \"question\",\n      \"properties\": {\n        \"dtype\": \"string\",\n        \"num_unique_values\": 50000,\n        \"samples\": [\n          \"does anyone use this in a salon?\",\n          \"after planting live plants in 55 gal tank im overrun with snails! will these get rid of all the snails? do i need 5 or would 3 be enough?\",\n          \"i heard that some treats that say made in usa, are indeed, manufactured in usa, but the ingredients still come from china. anyone know about that?\"\n        ],\n        \"semantic_type\": \"\",\n        \"description\": \"\"\n      }\n    },\n    {\n      \"column\": \"response\",\n      \"properties\": {\n        \"dtype\": \"string\",\n        \"num_unique_values\": 48676,\n        \"samples\": [\n          \"when not deployed (collapsed) it extends about an inch from the windshield post. the unit is about an 1 1/4 inches thick. after installing it really doesn't impair your view while driving (collapsed). you get used to it being in place after awhile. this is without a doubt a perfect solution to shading a windshield. first time passengers always comment on it.\",\n          \"yes, it works with mine. i have a leather case on the nexus 7(2013) and it charges through it.\",\n          \"no. only if you buy direct from a carrier (at&t or t-mobile) would it have a sim card. verizon uses cdma technology, so no sim card at all (and not very useful outside the us). you can purchase a microsd card from a number of sources. (i recently purchased a 64gb card for $19.99 +about $5 shipping)\"\n        ],\n        \"semantic_type\": \"\",\n        \"description\": \"\"\n      }\n    },\n    {\n      \"column\": \"category\",\n      \"properties\": {\n        \"dtype\": \"category\",\n        \"num_unique_values\": 8,\n        \"samples\": [\n          \"pet supplies\",\n          \"office products\",\n          \"sports and outdoors\"\n        ],\n        \"semantic_type\": \"\",\n        \"description\": \"\"\n      }\n    }\n  ]\n}"
            }
          },
          "metadata": {},
          "execution_count": 12
        }
      ],
      "source": [
        "valid"
      ]
    },
    {
      "cell_type": "markdown",
      "metadata": {
        "id": "xQELow3qp0HS"
      },
      "source": [
        "## Task\n",
        "Classify the question field into one of the categories in the category field.\n",
        "\n",
        "This is data from the Amazon QA service, that is, a service where you can ask a question and get an answer from other users.\n",
        "\n",
        "The idea of ​​the task is the following: let's help the client determine which category to post his question to in order to quickly get the most relevant answer."
      ]
    },
    {
      "cell_type": "markdown",
      "metadata": {
        "id": "ZLQpPnVvp0HS"
      },
      "source": [
        "### Converting a class into an index\n",
        "We will code some mapper that converts the class text into a specific unique index. We need this because our model does not work directly with the class, but with its index."
      ]
    },
    {
      "cell_type": "code",
      "execution_count": 13,
      "metadata": {
        "id": "Dv62gHzop0HS",
        "colab": {
          "base_uri": "https://localhost:8080/"
        },
        "outputId": "bc04b3f5-c590-42e3-95b8-6721a3f27ddf"
      },
      "outputs": [
        {
          "output_type": "execute_result",
          "data": {
            "text/plain": [
              "True"
            ]
          },
          "metadata": {},
          "execution_count": 13
        }
      ],
      "source": [
        "# checking that the train and the validation datasets contain the same categories\n",
        "set(train.category.unique().tolist()) == set(valid.category.unique().tolist())"
      ]
    },
    {
      "cell_type": "code",
      "execution_count": 14,
      "metadata": {
        "id": "ss2SiLgCp0HT"
      },
      "outputs": [],
      "source": [
        "unique_categories = set(train.category.unique().tolist() + valid.category.unique().tolist())"
      ]
    },
    {
      "cell_type": "code",
      "execution_count": 15,
      "metadata": {
        "id": "gKvqnML8p0HT"
      },
      "outputs": [],
      "source": [
        "category2index = {category: index for index, category in enumerate(unique_categories)}"
      ]
    },
    {
      "cell_type": "code",
      "execution_count": 16,
      "metadata": {
        "id": "jtPRHwVAp0HT",
        "colab": {
          "base_uri": "https://localhost:8080/"
        },
        "outputId": "6457e1b4-6aca-4d1a-c8a0-1cd4678fe29f"
      },
      "outputs": [
        {
          "output_type": "execute_result",
          "data": {
            "text/plain": [
              "{'cell phones and accessories': 0,\n",
              " 'baby': 1,\n",
              " 'pet supplies': 2,\n",
              " 'office products': 3,\n",
              " 'sports and outdoors': 4,\n",
              " 'grocery and gourmet food': 5,\n",
              " 'automotive': 6,\n",
              " 'beauty': 7}"
            ]
          },
          "metadata": {},
          "execution_count": 16
        }
      ],
      "source": [
        "category2index"
      ]
    },
    {
      "cell_type": "code",
      "execution_count": 17,
      "metadata": {
        "id": "H9OQb4COp0HU"
      },
      "outputs": [],
      "source": [
        "train['target'] = train.category.map(category2index)\n",
        "valid['target'] = valid.category.map(category2index)"
      ]
    },
    {
      "cell_type": "code",
      "execution_count": 18,
      "metadata": {
        "id": "rhTpK-cZp0HU",
        "colab": {
          "base_uri": "https://localhost:8080/",
          "height": 424
        },
        "outputId": "422a11a3-dea2-45a1-dd06-2880f1d3d67a"
      },
      "outputs": [
        {
          "output_type": "execute_result",
          "data": {
            "text/plain": [
              "                                                 question  \\\n",
              "0       i'm from oklahoma and my order for this item w...   \n",
              "1              does it come in a plastic or glass bottle?   \n",
              "2       do you need to set up with pc & disk before us...   \n",
              "3                                  how long is the table?   \n",
              "4                       how hot does the temperature get?   \n",
              "...                                                   ...   \n",
              "249995                        do these come with nipples?   \n",
              "249996  is this a \"beach\" volleyball? (softer/differen...   \n",
              "249997  does the icon hd have caller id functionality?...   \n",
              "249998  is it safe to sleep next to this battery in a ...   \n",
              "249999  will these fit a 2015 dodge ram bighorn quad c...   \n",
              "\n",
              "                                                 response  \\\n",
              "0       i am from indianapolis and i had my order canc...   \n",
              "1                                                   glass   \n",
              "2       no its you paired to my note3 and ipad no worr...   \n",
              "3       approx. 24-30 inches. it is so nice and sturdy...   \n",
              "4       it gets to 400 which is perfect for how course...   \n",
              "...                                                   ...   \n",
              "249995  yes 6 bottles 6 nipples 6 bottle caps. no extr...   \n",
              "249996  it might be a little softer not really l sure ...   \n",
              "249997  no. it will say the phone number but not the c...   \n",
              "249998  i would say yes since it suffers poor cell con...   \n",
              "249999  hello yes they will fit that model and the ins...   \n",
              "\n",
              "                           category  target  \n",
              "0               sports and outdoors       4  \n",
              "1          grocery and gourmet food       5  \n",
              "2       cell phones and accessories       0  \n",
              "3                            beauty       7  \n",
              "4                            beauty       7  \n",
              "...                             ...     ...  \n",
              "249995                         baby       1  \n",
              "249996          sports and outdoors       4  \n",
              "249997  cell phones and accessories       0  \n",
              "249998                   automotive       6  \n",
              "249999                   automotive       6  \n",
              "\n",
              "[250000 rows x 4 columns]"
            ],
            "text/html": [
              "\n",
              "  <div id=\"df-f4166de0-c9e2-436d-a600-e393131f7c3a\" class=\"colab-df-container\">\n",
              "    <div>\n",
              "<style scoped>\n",
              "    .dataframe tbody tr th:only-of-type {\n",
              "        vertical-align: middle;\n",
              "    }\n",
              "\n",
              "    .dataframe tbody tr th {\n",
              "        vertical-align: top;\n",
              "    }\n",
              "\n",
              "    .dataframe thead th {\n",
              "        text-align: right;\n",
              "    }\n",
              "</style>\n",
              "<table border=\"1\" class=\"dataframe\">\n",
              "  <thead>\n",
              "    <tr style=\"text-align: right;\">\n",
              "      <th></th>\n",
              "      <th>question</th>\n",
              "      <th>response</th>\n",
              "      <th>category</th>\n",
              "      <th>target</th>\n",
              "    </tr>\n",
              "  </thead>\n",
              "  <tbody>\n",
              "    <tr>\n",
              "      <th>0</th>\n",
              "      <td>i'm from oklahoma and my order for this item w...</td>\n",
              "      <td>i am from indianapolis and i had my order canc...</td>\n",
              "      <td>sports and outdoors</td>\n",
              "      <td>4</td>\n",
              "    </tr>\n",
              "    <tr>\n",
              "      <th>1</th>\n",
              "      <td>does it come in a plastic or glass bottle?</td>\n",
              "      <td>glass</td>\n",
              "      <td>grocery and gourmet food</td>\n",
              "      <td>5</td>\n",
              "    </tr>\n",
              "    <tr>\n",
              "      <th>2</th>\n",
              "      <td>do you need to set up with pc &amp; disk before us...</td>\n",
              "      <td>no its you paired to my note3 and ipad no worr...</td>\n",
              "      <td>cell phones and accessories</td>\n",
              "      <td>0</td>\n",
              "    </tr>\n",
              "    <tr>\n",
              "      <th>3</th>\n",
              "      <td>how long is the table?</td>\n",
              "      <td>approx. 24-30 inches. it is so nice and sturdy...</td>\n",
              "      <td>beauty</td>\n",
              "      <td>7</td>\n",
              "    </tr>\n",
              "    <tr>\n",
              "      <th>4</th>\n",
              "      <td>how hot does the temperature get?</td>\n",
              "      <td>it gets to 400 which is perfect for how course...</td>\n",
              "      <td>beauty</td>\n",
              "      <td>7</td>\n",
              "    </tr>\n",
              "    <tr>\n",
              "      <th>...</th>\n",
              "      <td>...</td>\n",
              "      <td>...</td>\n",
              "      <td>...</td>\n",
              "      <td>...</td>\n",
              "    </tr>\n",
              "    <tr>\n",
              "      <th>249995</th>\n",
              "      <td>do these come with nipples?</td>\n",
              "      <td>yes 6 bottles 6 nipples 6 bottle caps. no extr...</td>\n",
              "      <td>baby</td>\n",
              "      <td>1</td>\n",
              "    </tr>\n",
              "    <tr>\n",
              "      <th>249996</th>\n",
              "      <td>is this a \"beach\" volleyball? (softer/differen...</td>\n",
              "      <td>it might be a little softer not really l sure ...</td>\n",
              "      <td>sports and outdoors</td>\n",
              "      <td>4</td>\n",
              "    </tr>\n",
              "    <tr>\n",
              "      <th>249997</th>\n",
              "      <td>does the icon hd have caller id functionality?...</td>\n",
              "      <td>no. it will say the phone number but not the c...</td>\n",
              "      <td>cell phones and accessories</td>\n",
              "      <td>0</td>\n",
              "    </tr>\n",
              "    <tr>\n",
              "      <th>249998</th>\n",
              "      <td>is it safe to sleep next to this battery in a ...</td>\n",
              "      <td>i would say yes since it suffers poor cell con...</td>\n",
              "      <td>automotive</td>\n",
              "      <td>6</td>\n",
              "    </tr>\n",
              "    <tr>\n",
              "      <th>249999</th>\n",
              "      <td>will these fit a 2015 dodge ram bighorn quad c...</td>\n",
              "      <td>hello yes they will fit that model and the ins...</td>\n",
              "      <td>automotive</td>\n",
              "      <td>6</td>\n",
              "    </tr>\n",
              "  </tbody>\n",
              "</table>\n",
              "<p>250000 rows × 4 columns</p>\n",
              "</div>\n",
              "    <div class=\"colab-df-buttons\">\n",
              "\n",
              "  <div class=\"colab-df-container\">\n",
              "    <button class=\"colab-df-convert\" onclick=\"convertToInteractive('df-f4166de0-c9e2-436d-a600-e393131f7c3a')\"\n",
              "            title=\"Convert this dataframe to an interactive table.\"\n",
              "            style=\"display:none;\">\n",
              "\n",
              "  <svg xmlns=\"http://www.w3.org/2000/svg\" height=\"24px\" viewBox=\"0 -960 960 960\">\n",
              "    <path d=\"M120-120v-720h720v720H120Zm60-500h600v-160H180v160Zm220 220h160v-160H400v160Zm0 220h160v-160H400v160ZM180-400h160v-160H180v160Zm440 0h160v-160H620v160ZM180-180h160v-160H180v160Zm440 0h160v-160H620v160Z\"/>\n",
              "  </svg>\n",
              "    </button>\n",
              "\n",
              "  <style>\n",
              "    .colab-df-container {\n",
              "      display:flex;\n",
              "      gap: 12px;\n",
              "    }\n",
              "\n",
              "    .colab-df-convert {\n",
              "      background-color: #E8F0FE;\n",
              "      border: none;\n",
              "      border-radius: 50%;\n",
              "      cursor: pointer;\n",
              "      display: none;\n",
              "      fill: #1967D2;\n",
              "      height: 32px;\n",
              "      padding: 0 0 0 0;\n",
              "      width: 32px;\n",
              "    }\n",
              "\n",
              "    .colab-df-convert:hover {\n",
              "      background-color: #E2EBFA;\n",
              "      box-shadow: 0px 1px 2px rgba(60, 64, 67, 0.3), 0px 1px 3px 1px rgba(60, 64, 67, 0.15);\n",
              "      fill: #174EA6;\n",
              "    }\n",
              "\n",
              "    .colab-df-buttons div {\n",
              "      margin-bottom: 4px;\n",
              "    }\n",
              "\n",
              "    [theme=dark] .colab-df-convert {\n",
              "      background-color: #3B4455;\n",
              "      fill: #D2E3FC;\n",
              "    }\n",
              "\n",
              "    [theme=dark] .colab-df-convert:hover {\n",
              "      background-color: #434B5C;\n",
              "      box-shadow: 0px 1px 3px 1px rgba(0, 0, 0, 0.15);\n",
              "      filter: drop-shadow(0px 1px 2px rgba(0, 0, 0, 0.3));\n",
              "      fill: #FFFFFF;\n",
              "    }\n",
              "  </style>\n",
              "\n",
              "    <script>\n",
              "      const buttonEl =\n",
              "        document.querySelector('#df-f4166de0-c9e2-436d-a600-e393131f7c3a button.colab-df-convert');\n",
              "      buttonEl.style.display =\n",
              "        google.colab.kernel.accessAllowed ? 'block' : 'none';\n",
              "\n",
              "      async function convertToInteractive(key) {\n",
              "        const element = document.querySelector('#df-f4166de0-c9e2-436d-a600-e393131f7c3a');\n",
              "        const dataTable =\n",
              "          await google.colab.kernel.invokeFunction('convertToInteractive',\n",
              "                                                    [key], {});\n",
              "        if (!dataTable) return;\n",
              "\n",
              "        const docLinkHtml = 'Like what you see? Visit the ' +\n",
              "          '<a target=\"_blank\" href=https://colab.research.google.com/notebooks/data_table.ipynb>data table notebook</a>'\n",
              "          + ' to learn more about interactive tables.';\n",
              "        element.innerHTML = '';\n",
              "        dataTable['output_type'] = 'display_data';\n",
              "        await google.colab.output.renderOutput(dataTable, element);\n",
              "        const docLink = document.createElement('div');\n",
              "        docLink.innerHTML = docLinkHtml;\n",
              "        element.appendChild(docLink);\n",
              "      }\n",
              "    </script>\n",
              "  </div>\n",
              "\n",
              "\n",
              "<div id=\"df-4d5f3665-bf0f-45e4-a7d9-4a1756f748ee\">\n",
              "  <button class=\"colab-df-quickchart\" onclick=\"quickchart('df-4d5f3665-bf0f-45e4-a7d9-4a1756f748ee')\"\n",
              "            title=\"Suggest charts\"\n",
              "            style=\"display:none;\">\n",
              "\n",
              "<svg xmlns=\"http://www.w3.org/2000/svg\" height=\"24px\"viewBox=\"0 0 24 24\"\n",
              "     width=\"24px\">\n",
              "    <g>\n",
              "        <path d=\"M19 3H5c-1.1 0-2 .9-2 2v14c0 1.1.9 2 2 2h14c1.1 0 2-.9 2-2V5c0-1.1-.9-2-2-2zM9 17H7v-7h2v7zm4 0h-2V7h2v10zm4 0h-2v-4h2v4z\"/>\n",
              "    </g>\n",
              "</svg>\n",
              "  </button>\n",
              "\n",
              "<style>\n",
              "  .colab-df-quickchart {\n",
              "      --bg-color: #E8F0FE;\n",
              "      --fill-color: #1967D2;\n",
              "      --hover-bg-color: #E2EBFA;\n",
              "      --hover-fill-color: #174EA6;\n",
              "      --disabled-fill-color: #AAA;\n",
              "      --disabled-bg-color: #DDD;\n",
              "  }\n",
              "\n",
              "  [theme=dark] .colab-df-quickchart {\n",
              "      --bg-color: #3B4455;\n",
              "      --fill-color: #D2E3FC;\n",
              "      --hover-bg-color: #434B5C;\n",
              "      --hover-fill-color: #FFFFFF;\n",
              "      --disabled-bg-color: #3B4455;\n",
              "      --disabled-fill-color: #666;\n",
              "  }\n",
              "\n",
              "  .colab-df-quickchart {\n",
              "    background-color: var(--bg-color);\n",
              "    border: none;\n",
              "    border-radius: 50%;\n",
              "    cursor: pointer;\n",
              "    display: none;\n",
              "    fill: var(--fill-color);\n",
              "    height: 32px;\n",
              "    padding: 0;\n",
              "    width: 32px;\n",
              "  }\n",
              "\n",
              "  .colab-df-quickchart:hover {\n",
              "    background-color: var(--hover-bg-color);\n",
              "    box-shadow: 0 1px 2px rgba(60, 64, 67, 0.3), 0 1px 3px 1px rgba(60, 64, 67, 0.15);\n",
              "    fill: var(--button-hover-fill-color);\n",
              "  }\n",
              "\n",
              "  .colab-df-quickchart-complete:disabled,\n",
              "  .colab-df-quickchart-complete:disabled:hover {\n",
              "    background-color: var(--disabled-bg-color);\n",
              "    fill: var(--disabled-fill-color);\n",
              "    box-shadow: none;\n",
              "  }\n",
              "\n",
              "  .colab-df-spinner {\n",
              "    border: 2px solid var(--fill-color);\n",
              "    border-color: transparent;\n",
              "    border-bottom-color: var(--fill-color);\n",
              "    animation:\n",
              "      spin 1s steps(1) infinite;\n",
              "  }\n",
              "\n",
              "  @keyframes spin {\n",
              "    0% {\n",
              "      border-color: transparent;\n",
              "      border-bottom-color: var(--fill-color);\n",
              "      border-left-color: var(--fill-color);\n",
              "    }\n",
              "    20% {\n",
              "      border-color: transparent;\n",
              "      border-left-color: var(--fill-color);\n",
              "      border-top-color: var(--fill-color);\n",
              "    }\n",
              "    30% {\n",
              "      border-color: transparent;\n",
              "      border-left-color: var(--fill-color);\n",
              "      border-top-color: var(--fill-color);\n",
              "      border-right-color: var(--fill-color);\n",
              "    }\n",
              "    40% {\n",
              "      border-color: transparent;\n",
              "      border-right-color: var(--fill-color);\n",
              "      border-top-color: var(--fill-color);\n",
              "    }\n",
              "    60% {\n",
              "      border-color: transparent;\n",
              "      border-right-color: var(--fill-color);\n",
              "    }\n",
              "    80% {\n",
              "      border-color: transparent;\n",
              "      border-right-color: var(--fill-color);\n",
              "      border-bottom-color: var(--fill-color);\n",
              "    }\n",
              "    90% {\n",
              "      border-color: transparent;\n",
              "      border-bottom-color: var(--fill-color);\n",
              "    }\n",
              "  }\n",
              "</style>\n",
              "\n",
              "  <script>\n",
              "    async function quickchart(key) {\n",
              "      const quickchartButtonEl =\n",
              "        document.querySelector('#' + key + ' button');\n",
              "      quickchartButtonEl.disabled = true;  // To prevent multiple clicks.\n",
              "      quickchartButtonEl.classList.add('colab-df-spinner');\n",
              "      try {\n",
              "        const charts = await google.colab.kernel.invokeFunction(\n",
              "            'suggestCharts', [key], {});\n",
              "      } catch (error) {\n",
              "        console.error('Error during call to suggestCharts:', error);\n",
              "      }\n",
              "      quickchartButtonEl.classList.remove('colab-df-spinner');\n",
              "      quickchartButtonEl.classList.add('colab-df-quickchart-complete');\n",
              "    }\n",
              "    (() => {\n",
              "      let quickchartButtonEl =\n",
              "        document.querySelector('#df-4d5f3665-bf0f-45e4-a7d9-4a1756f748ee button');\n",
              "      quickchartButtonEl.style.display =\n",
              "        google.colab.kernel.accessAllowed ? 'block' : 'none';\n",
              "    })();\n",
              "  </script>\n",
              "</div>\n",
              "    </div>\n",
              "  </div>\n"
            ],
            "application/vnd.google.colaboratory.intrinsic+json": {
              "type": "dataframe",
              "variable_name": "train"
            }
          },
          "metadata": {},
          "execution_count": 18
        }
      ],
      "source": [
        "train"
      ]
    },
    {
      "cell_type": "markdown",
      "metadata": {
        "id": "EOAWUz_7p0HU"
      },
      "source": [
        "### Torch Dataset, DataLoader\n",
        "\n",
        "This is a very important abstraction for Torch.\n",
        "\n",
        "We will always use it to work with data.\n",
        "\n",
        "`Dataset` is a class that you need to inherit from to write your own data handler. Inside it, you need to implement two methods,\n",
        "which will be discussed below. That is, in this class you describe how to convert your data into a Torch format (converting texts\n",
        "into word indexes, etc.).\n",
        "\n",
        "`DataLoader` is a class that will sample data in batches for you. It is an iterator, so the format for working with it is approximately as follows:\n",
        "```python\n",
        "for batch in data_loader:\n",
        "    ...\n",
        "```\n",
        "That is, at each iteration, one batch of data is given. Iteration ends when you go through all the batches.\n",
        "\n",
        "Why do we need these abstractions? To simplify and unify our work with data.\n",
        "In general, you can implement something of your own, but this is a simplification of this task."
      ]
    },
    {
      "cell_type": "code",
      "execution_count": 19,
      "metadata": {
        "id": "MuBX0qTRp0HU"
      },
      "outputs": [],
      "source": [
        "from torch.utils.data import Dataset, DataLoader"
      ]
    },
    {
      "cell_type": "code",
      "execution_count": 20,
      "metadata": {
        "id": "wtNpYACWp0HV"
      },
      "outputs": [],
      "source": [
        "# toy dataset\n",
        "# 121535 examples, 4 features, 3 classes\n",
        "some_data_x = np.random.rand(121535, 4)\n",
        "some_data_y = np.random.randint(3, size=(121535,))"
      ]
    },
    {
      "cell_type": "code",
      "execution_count": 21,
      "metadata": {
        "id": "3AEjK6A9p0HV",
        "colab": {
          "base_uri": "https://localhost:8080/"
        },
        "outputId": "2d01bfca-c1f9-4074-d921-f83f16ca000e"
      },
      "outputs": [
        {
          "output_type": "execute_result",
          "data": {
            "text/plain": [
              "array([[0.10826148, 0.74905625, 0.69051137, 0.74663292],\n",
              "       [0.88131665, 0.99109972, 0.47582262, 0.10940967],\n",
              "       [0.38886955, 0.6155447 , 0.04103358, 0.82278828],\n",
              "       [0.02651368, 0.81672301, 0.61612131, 0.54255619],\n",
              "       [0.31139615, 0.46550815, 0.81199428, 0.43881489],\n",
              "       [0.04066398, 0.09026044, 0.84737455, 0.72393167],\n",
              "       [0.29600086, 0.99393449, 0.92859291, 0.27586581],\n",
              "       [0.05382624, 0.95222062, 0.76237021, 0.97057495],\n",
              "       [0.87450681, 0.73438612, 0.51811821, 0.21040633],\n",
              "       [0.43586744, 0.48667785, 0.67690395, 0.82947854]])"
            ]
          },
          "metadata": {},
          "execution_count": 21
        }
      ],
      "source": [
        "# just random numbers\n",
        "some_data_x[:10]"
      ]
    },
    {
      "cell_type": "code",
      "execution_count": 22,
      "metadata": {
        "id": "VTdPP8U0p0HV",
        "colab": {
          "base_uri": "https://localhost:8080/"
        },
        "outputId": "9d3bad13-7ae6-4a77-e34b-e076b261f254"
      },
      "outputs": [
        {
          "output_type": "execute_result",
          "data": {
            "text/plain": [
              "array([0, 1, 2, ..., 2, 2, 1])"
            ]
          },
          "metadata": {},
          "execution_count": 22
        }
      ],
      "source": [
        "# and classes\n",
        "some_data_y"
      ]
    },
    {
      "cell_type": "markdown",
      "metadata": {
        "id": "KCoMD9Ccp0HV"
      },
      "source": [
        "### Example of usefulness\n",
        "To train a model, you need to feed it batches of data. How could we implement this if we didn't have Dataset and DataLoader"
      ]
    },
    {
      "cell_type": "code",
      "execution_count": 23,
      "metadata": {
        "id": "I7gaogQCp0HV"
      },
      "outputs": [],
      "source": [
        "batch_size = 16\n",
        "\n",
        "for i_batch in range(math.ceil(some_data_x.shape[0] / batch_size)):\n",
        "\n",
        "    x_batch = some_data_x[i_batch * batch_size:(i_batch + 1) * batch_size]\n",
        "    y_batch = some_data_y[i_batch * batch_size:(i_batch + 1) * batch_size]\n",
        "\n",
        "    x_batch = torch.tensor(x_batch)\n",
        "    y_batch = torch.tensor(y_batch)\n",
        "\n",
        "    break"
      ]
    },
    {
      "cell_type": "code",
      "execution_count": 24,
      "metadata": {
        "id": "MpmsEYxFp0HW",
        "colab": {
          "base_uri": "https://localhost:8080/"
        },
        "outputId": "87829c0d-b5a7-4c3f-c09d-d828cd9829f6"
      },
      "outputs": [
        {
          "output_type": "execute_result",
          "data": {
            "text/plain": [
              "tensor([[0.1083, 0.7491, 0.6905, 0.7466],\n",
              "        [0.8813, 0.9911, 0.4758, 0.1094],\n",
              "        [0.3889, 0.6155, 0.0410, 0.8228],\n",
              "        [0.0265, 0.8167, 0.6161, 0.5426],\n",
              "        [0.3114, 0.4655, 0.8120, 0.4388],\n",
              "        [0.0407, 0.0903, 0.8474, 0.7239],\n",
              "        [0.2960, 0.9939, 0.9286, 0.2759],\n",
              "        [0.0538, 0.9522, 0.7624, 0.9706],\n",
              "        [0.8745, 0.7344, 0.5181, 0.2104],\n",
              "        [0.4359, 0.4867, 0.6769, 0.8295],\n",
              "        [0.5901, 0.7672, 0.4601, 0.3265],\n",
              "        [0.3960, 0.2538, 0.1275, 0.1798],\n",
              "        [0.5884, 0.9556, 0.3790, 0.5072],\n",
              "        [0.0628, 0.0925, 0.5440, 0.8636],\n",
              "        [0.8550, 0.0844, 0.3197, 0.7426],\n",
              "        [0.8654, 0.0582, 0.8261, 0.3383]], dtype=torch.float64)"
            ]
          },
          "metadata": {},
          "execution_count": 24
        }
      ],
      "source": [
        "x_batch"
      ]
    },
    {
      "cell_type": "code",
      "execution_count": 25,
      "metadata": {
        "id": "HslxQoKzp0HW",
        "colab": {
          "base_uri": "https://localhost:8080/"
        },
        "outputId": "1ef074d9-70ce-45a6-8941-ec88489d32c6"
      },
      "outputs": [
        {
          "output_type": "execute_result",
          "data": {
            "text/plain": [
              "(torch.Size([16, 4]), torch.Size([16]))"
            ]
          },
          "metadata": {},
          "execution_count": 25
        }
      ],
      "source": [
        "x_batch.shape, y_batch.shape"
      ]
    },
    {
      "cell_type": "markdown",
      "metadata": {
        "id": "kKtbXt_Bp0HW"
      },
      "source": [
        "This is a fairly simple example. We were able to do it ourselves, but almost always, processing the data to feed it into a model is more complicated.\n",
        "And some things are often needed more than once, for example, if we want to shuffle our data every epoch to get different batches.\n",
        "We can do this, but to do so, we will have to drag some code with us from project to project. Also, co-development or simply reading someone else's code is much easier when you use unified formats."
      ]
    },
    {
      "cell_type": "markdown",
      "metadata": {
        "id": "mccmAkLBp0HW"
      },
      "source": [
        "### Moving on to Dataset\n",
        "Let's wrap our data in this handler."
      ]
    },
    {
      "cell_type": "code",
      "execution_count": 26,
      "metadata": {
        "id": "XiUD-Ugfp0HW"
      },
      "outputs": [],
      "source": [
        "class ToyDataset(Dataset):\n",
        "\n",
        "    def __init__(self, data_x, data_y):\n",
        "\n",
        "        super().__init__()\n",
        "\n",
        "        self.data_x = data_x\n",
        "        self.data_y = data_y\n",
        "\n",
        "    def __len__(self):\n",
        "\n",
        "        # it is very necessary to define this function\n",
        "        # it should return the size of the dataset\n",
        "        # it is needed for DataLoader to sample batches\n",
        "\n",
        "        return len(self.data_x)\n",
        "\n",
        "    def __getitem__(self, idx):\n",
        "\n",
        "        # this method needs to be defined as well\n",
        "        # that is, how we will get our data by index\n",
        "\n",
        "        return self.data_x[idx], self.data_y[idx]"
      ]
    },
    {
      "cell_type": "code",
      "execution_count": 27,
      "metadata": {
        "id": "jkHSn_Cap0HW"
      },
      "outputs": [],
      "source": [
        "some_dataset = ToyDataset(some_data_x, some_data_y)"
      ]
    },
    {
      "cell_type": "code",
      "execution_count": 28,
      "metadata": {
        "id": "FsTzxqjvp0HW",
        "colab": {
          "base_uri": "https://localhost:8080/"
        },
        "outputId": "30efa5f6-fdf8-49cb-baa1-7aed2fdf48f7"
      },
      "outputs": [
        {
          "output_type": "execute_result",
          "data": {
            "text/plain": [
              "((array([0.04066398, 0.09026044, 0.84737455, 0.72393167]), 0),\n",
              " (array([0.58986084, 0.78083653, 0.54846728, 0.22804896]), 2))"
            ]
          },
          "metadata": {},
          "execution_count": 28
        }
      ],
      "source": [
        "some_dataset[5], some_dataset[467]"
      ]
    },
    {
      "cell_type": "markdown",
      "metadata": {
        "id": "USLWDrm5p0HW"
      },
      "source": [
        "### It seems like it doesn't make sense, but this is the simplest example."
      ]
    },
    {
      "cell_type": "markdown",
      "metadata": {
        "id": "BOa2EaeJp0HW"
      },
      "source": [
        "### DataLoader\n",
        "We can set some parameters in it, for example, batch size and whether it is necessary to shuffle data in every pass to get different batches (to compose these batches differently)."
      ]
    },
    {
      "cell_type": "code",
      "execution_count": 29,
      "metadata": {
        "id": "MpScFxLbp0HX"
      },
      "outputs": [],
      "source": [
        "some_loader = DataLoader(some_dataset, batch_size=16, shuffle=True)"
      ]
    },
    {
      "cell_type": "code",
      "execution_count": 30,
      "metadata": {
        "id": "Hi-Q6rLip0HX",
        "colab": {
          "base_uri": "https://localhost:8080/"
        },
        "outputId": "f7c5725b-7d7a-4b7a-b99a-284706a441bf"
      },
      "outputs": [
        {
          "output_type": "execute_result",
          "data": {
            "text/plain": [
              "tensor([[0.3473, 0.9123, 0.2475, 0.3541],\n",
              "        [0.8745, 0.5564, 0.4291, 0.9403],\n",
              "        [0.8750, 0.1157, 0.0141, 0.9137],\n",
              "        [0.7860, 0.4919, 0.8156, 0.2189],\n",
              "        [0.9852, 0.0651, 0.8616, 0.4249],\n",
              "        [0.6668, 0.0428, 0.1558, 0.3059],\n",
              "        [0.9445, 0.1502, 0.1467, 0.8571],\n",
              "        [0.6461, 0.4544, 0.8219, 0.2054],\n",
              "        [0.1662, 0.5794, 0.5729, 0.2499],\n",
              "        [0.1170, 0.8047, 0.4761, 0.4456],\n",
              "        [0.9124, 0.4481, 0.9641, 0.6797],\n",
              "        [0.8522, 0.8528, 0.7089, 0.4681],\n",
              "        [0.4503, 0.9419, 0.2076, 0.9522],\n",
              "        [0.1549, 0.3382, 0.9066, 0.3761],\n",
              "        [0.1624, 0.8979, 0.1937, 0.9973],\n",
              "        [0.9324, 0.2060, 0.9983, 0.3397]], dtype=torch.float64)"
            ]
          },
          "metadata": {},
          "execution_count": 30
        }
      ],
      "source": [
        "for x, y in some_loader:\n",
        "    break\n",
        "\n",
        "x"
      ]
    },
    {
      "cell_type": "code",
      "execution_count": 31,
      "metadata": {
        "id": "jMj088-Pp0HX",
        "colab": {
          "base_uri": "https://localhost:8080/"
        },
        "outputId": "d3e96fa5-c73b-4975-c22d-1ba06a005739"
      },
      "outputs": [
        {
          "output_type": "execute_result",
          "data": {
            "text/plain": [
              "torch.Size([16, 4])"
            ]
          },
          "metadata": {},
          "execution_count": 31
        }
      ],
      "source": [
        "x.shape"
      ]
    },
    {
      "cell_type": "code",
      "execution_count": 32,
      "metadata": {
        "id": "ebGFNrX1p0HX",
        "colab": {
          "base_uri": "https://localhost:8080/"
        },
        "outputId": "dc95026d-a3c9-458e-cff9-7aae078bbf8e"
      },
      "outputs": [
        {
          "output_type": "execute_result",
          "data": {
            "text/plain": [
              "15"
            ]
          },
          "metadata": {},
          "execution_count": 32
        }
      ],
      "source": [
        "for x, y in some_loader:\n",
        "    pass\n",
        "\n",
        "len(x)"
      ]
    },
    {
      "cell_type": "code",
      "execution_count": 33,
      "metadata": {
        "id": "Er7UQx_Fp0HX",
        "colab": {
          "base_uri": "https://localhost:8080/"
        },
        "outputId": "8c2400e2-8a11-4279-d309-8f463afc860c"
      },
      "outputs": [
        {
          "output_type": "execute_result",
          "data": {
            "text/plain": [
              "15"
            ]
          },
          "metadata": {},
          "execution_count": 33
        }
      ],
      "source": [
        "# why 15?\n",
        "# because the amount of our data is not divisible by 16\n",
        "# and therefore the last batch is less than 16\n",
        "len(some_dataset) % 16"
      ]
    },
    {
      "cell_type": "markdown",
      "metadata": {
        "id": "LsxvVXjCp0HX"
      },
      "source": [
        "### Let's complicate the handler"
      ]
    },
    {
      "cell_type": "code",
      "execution_count": 34,
      "metadata": {
        "id": "8yRnSZHhp0HX"
      },
      "outputs": [],
      "source": [
        "class ToyDataset(Dataset):\n",
        "\n",
        "    def __init__(self, data_x, data_y):\n",
        "\n",
        "        super().__init__()\n",
        "\n",
        "        self.data_x = data_x\n",
        "        self.data_y = data_y\n",
        "\n",
        "    def __len__(self):\n",
        "\n",
        "        # it is very necessary to define this function\n",
        "        # it should return the size of the dataset\n",
        "        # it is needed for DataLoader to sample batches\n",
        "\n",
        "        return len(self.data_x)\n",
        "\n",
        "    @staticmethod\n",
        "    def pow_features(x, n=2):\n",
        "\n",
        "        return x ** n\n",
        "\n",
        "    @staticmethod\n",
        "    def log_features(x):\n",
        "\n",
        "        return np.log(x)\n",
        "\n",
        "    def __getitem__(self, idx):\n",
        "\n",
        "        # this method needs to be defined as well\n",
        "        # that is, how we will get our data by index\n",
        "\n",
        "        x = self.data_x[idx]\n",
        "\n",
        "        # inside the dataset we can do whatever we want with our data\n",
        "        # for example, to define functions that add power features\n",
        "        x_p_2 = self.pow_features(x, n=2)\n",
        "        x_p_3 = self.pow_features(x, n=3)\n",
        "        # and let's also add logarithmic features\n",
        "        x_log = self.log_features(x)\n",
        "\n",
        "        # let's concatenate our features\n",
        "        x = np.concatenate([x, x_p_2, x_p_3, x_log])\n",
        "\n",
        "        y = self.data_y[idx]\n",
        "\n",
        "        return x, y"
      ]
    },
    {
      "cell_type": "code",
      "execution_count": 35,
      "metadata": {
        "id": "ExndjhSBp0HY"
      },
      "outputs": [],
      "source": [
        "toy_dataset = ToyDataset(some_data_x, some_data_y)"
      ]
    },
    {
      "cell_type": "code",
      "execution_count": 36,
      "metadata": {
        "id": "q_tDko7Vp0HY"
      },
      "outputs": [],
      "source": [
        "toy_loader = DataLoader(dataset=toy_dataset, batch_size=128)"
      ]
    },
    {
      "cell_type": "code",
      "execution_count": 37,
      "metadata": {
        "id": "31TUGLClp0HY"
      },
      "outputs": [],
      "source": [
        "for x, y in toy_loader:\n",
        "    break"
      ]
    },
    {
      "cell_type": "code",
      "execution_count": 38,
      "metadata": {
        "id": "jVArA8u7p0HY",
        "colab": {
          "base_uri": "https://localhost:8080/"
        },
        "outputId": "4c817a03-4941-4c2f-9199-f64a33d6c51a"
      },
      "outputs": [
        {
          "output_type": "execute_result",
          "data": {
            "text/plain": [
              "torch.Size([128, 16])"
            ]
          },
          "metadata": {},
          "execution_count": 38
        }
      ],
      "source": [
        "\n",
        "x.shape"
      ]
    },
    {
      "cell_type": "code",
      "execution_count": 39,
      "metadata": {
        "id": "ruyBkvFyp0HY",
        "colab": {
          "base_uri": "https://localhost:8080/"
        },
        "outputId": "751ea484-fa5c-48f1-af3d-b5ea717c8436"
      },
      "outputs": [
        {
          "output_type": "execute_result",
          "data": {
            "text/plain": [
              "tensor([[ 0.1083,  0.7491,  0.6905,  ..., -0.2889, -0.3703, -0.2922],\n",
              "        [ 0.8813,  0.9911,  0.4758,  ..., -0.0089, -0.7427, -2.2127],\n",
              "        [ 0.3889,  0.6155,  0.0410,  ..., -0.4852, -3.1934, -0.1951],\n",
              "        ...,\n",
              "        [ 0.4078,  0.1684,  0.7213,  ..., -1.7812, -0.3267, -0.9119],\n",
              "        [ 0.2514,  0.3126,  0.1775,  ..., -1.1628, -1.7290, -2.5648],\n",
              "        [ 0.6614,  0.6543,  0.7776,  ..., -0.4241, -0.2515, -0.6932]],\n",
              "       dtype=torch.float64)"
            ]
          },
          "metadata": {},
          "execution_count": 39
        }
      ],
      "source": [
        "# note that we immediately get the torch data format, which is obtained from the automatic conversion from numpy\n",
        "x"
      ]
    },
    {
      "cell_type": "code",
      "execution_count": 40,
      "metadata": {
        "id": "FPKKn-wVp0HY",
        "colab": {
          "base_uri": "https://localhost:8080/"
        },
        "outputId": "2eb99c23-c305-4bbc-b616-8cac55681443"
      },
      "outputs": [
        {
          "output_type": "execute_result",
          "data": {
            "text/plain": [
              "tensor([0, 1, 2, 1, 1, 0, 1, 2, 0, 2, 1, 0, 2, 0, 1, 1, 1, 2, 1, 1, 1, 1, 0, 2,\n",
              "        2, 2, 0, 2, 2, 0, 0, 0, 1, 1, 0, 0, 1, 2, 1, 2, 1, 2, 1, 2, 2, 0, 2, 0,\n",
              "        0, 2, 2, 0, 2, 2, 1, 2, 1, 0, 0, 1, 1, 1, 1, 0, 0, 0, 2, 0, 1, 2, 2, 1,\n",
              "        1, 0, 2, 2, 0, 0, 2, 1, 1, 1, 0, 0, 1, 2, 2, 0, 0, 2, 2, 1, 1, 1, 2, 2,\n",
              "        2, 2, 1, 2, 2, 1, 0, 0, 2, 2, 0, 0, 2, 2, 1, 0, 1, 1, 1, 1, 0, 2, 1, 1,\n",
              "        2, 1, 2, 0, 2, 2, 0, 0])"
            ]
          },
          "metadata": {},
          "execution_count": 40
        }
      ],
      "source": [
        "y"
      ]
    },
    {
      "cell_type": "code",
      "execution_count": 41,
      "metadata": {
        "id": "rL7uzHkJp0HY",
        "colab": {
          "base_uri": "https://localhost:8080/"
        },
        "outputId": "90534d50-2faa-41cd-9228-9ad48701004d"
      },
      "outputs": [
        {
          "output_type": "execute_result",
          "data": {
            "text/plain": [
              "1.0999910831451416"
            ]
          },
          "metadata": {},
          "execution_count": 41
        }
      ],
      "source": [
        "# let's create a small model and calculate the loss\n",
        "\n",
        "model = torch.nn.Sequential(torch.nn.Linear(16, 8),\n",
        "                            torch.nn.ReLU(),\n",
        "                            torch.nn.Linear(8, 4),\n",
        "                            torch.nn.ReLU(),\n",
        "                            torch.nn.Linear(4, 3))\n",
        "\n",
        "criterion = torch.nn.CrossEntropyLoss()\n",
        "\n",
        "with torch.no_grad():\n",
        "\n",
        "    prediction = model(x.float())\n",
        "\n",
        "    loss = criterion(prediction, y)\n",
        "\n",
        "loss.item()"
      ]
    },
    {
      "cell_type": "markdown",
      "metadata": {
        "id": "1hWvXoKzp0HY"
      },
      "source": [
        "### Let's create a dataset for our text data\n",
        "We will input a string and a target by index"
      ]
    },
    {
      "cell_type": "code",
      "execution_count": 42,
      "metadata": {
        "id": "BHtcNdp0p0HZ"
      },
      "outputs": [],
      "source": [
        "class TextClassificationDataset(Dataset):\n",
        "\n",
        "    def __init__(self, texts, targets):\n",
        "        super().__init__()\n",
        "\n",
        "        self.texts = texts\n",
        "        self.targets = targets\n",
        "\n",
        "    def __len__(self):\n",
        "        return len(self.texts)\n",
        "\n",
        "    def __getitem__(self, index):\n",
        "\n",
        "        text = self.texts[index]\n",
        "        target = self.targets[index]\n",
        "\n",
        "        return text, target"
      ]
    },
    {
      "cell_type": "code",
      "execution_count": 43,
      "metadata": {
        "id": "4cBeOYScp0HZ"
      },
      "outputs": [],
      "source": [
        "# preparing the data\n",
        "train_x = list(train.question)\n",
        "train_y = list(train.target)\n",
        "\n",
        "valid_x = list(valid.question)\n",
        "valid_y = list(valid.target)"
      ]
    },
    {
      "cell_type": "code",
      "execution_count": 44,
      "metadata": {
        "id": "opHf1NUCp0HZ"
      },
      "outputs": [],
      "source": [
        "train_dataset = TextClassificationDataset(texts=list(train.question), targets=list(train.target))"
      ]
    },
    {
      "cell_type": "code",
      "execution_count": 45,
      "metadata": {
        "id": "YPeFjIsOp0HZ"
      },
      "outputs": [],
      "source": [
        "# sampling the data\n",
        "text, target = train_dataset[0]"
      ]
    },
    {
      "cell_type": "code",
      "execution_count": 46,
      "metadata": {
        "id": "9kFX2-8Rp0HZ",
        "colab": {
          "base_uri": "https://localhost:8080/",
          "height": 53
        },
        "outputId": "c16d9da3-640e-47c7-a8c3-1bbe6041a7b4"
      },
      "outputs": [
        {
          "output_type": "execute_result",
          "data": {
            "text/plain": [
              "\"i'm from oklahoma and my order for this item was cancelled because it contains hazardous material and couldn't be shipped to my address. i don't understand what hazardous material amazon is referring to?\""
            ],
            "application/vnd.google.colaboratory.intrinsic+json": {
              "type": "string"
            }
          },
          "metadata": {},
          "execution_count": 46
        }
      ],
      "source": [
        "text"
      ]
    },
    {
      "cell_type": "code",
      "execution_count": 47,
      "metadata": {
        "id": "vLfpktO8p0HZ",
        "colab": {
          "base_uri": "https://localhost:8080/"
        },
        "outputId": "a1c0d297-7dbd-4b30-8b87-b5c396641884"
      },
      "outputs": [
        {
          "output_type": "execute_result",
          "data": {
            "text/plain": [
              "4"
            ]
          },
          "metadata": {},
          "execution_count": 47
        }
      ],
      "source": [
        "target"
      ]
    },
    {
      "cell_type": "markdown",
      "metadata": {
        "id": "OVr42ap7p0HZ"
      },
      "source": [
        "### The point of the handler\n",
        "It is that we need to transform our data into a format that we can then pass to the model.\n",
        "Right now we have strings, and Torch doesn't know anything about strings, it needs tensors."
      ]
    },
    {
      "cell_type": "markdown",
      "metadata": {
        "id": "EjVxlmfPp0HZ"
      },
      "source": [
        "### Loading Embeddings\n",
        "To work with text data, we can split our lines into words, and convert the words into vectors. Where do we get these vectors?\n",
        "We talked about a method called word2vec and at the beginning of this notebook we loaded a file with these very vectors.\n"
      ]
    },
    {
      "cell_type": "code",
      "execution_count": 48,
      "metadata": {
        "id": "e2R1WhlTp0HZ"
      },
      "outputs": [],
      "source": [
        "import zipfile\n",
        "import numpy as np\n",
        "\n",
        "from tqdm import tqdm"
      ]
    },
    {
      "cell_type": "code",
      "execution_count": 49,
      "metadata": {
        "id": "iYrw35whp0HZ"
      },
      "outputs": [],
      "source": [
        "def load_embeddings(zip_path, filename, pad_token='PAD', max_words=100_000, verbose=True):\n",
        "\n",
        "    vocab = dict()\n",
        "    embeddings = list()\n",
        "\n",
        "    with zipfile.ZipFile(zip_path) as zipped_file:\n",
        "        with zipped_file.open(filename) as file_object:\n",
        "\n",
        "            vocab_size, embedding_dim = file_object.readline().decode('utf-8').strip().split()\n",
        "\n",
        "            vocab_size = int(vocab_size)\n",
        "            embedding_dim = int(embedding_dim)\n",
        "\n",
        "            # there are 1,000,000 words with vectors in the file, let's limit this dictionary for simplicity\n",
        "            max_words = vocab_size if max_words <= 0 else max_words\n",
        "\n",
        "            # let's add the pad token and embedding to our embedding matrix and dictionary\n",
        "            vocab[pad_token] = len(vocab)\n",
        "            embeddings.append(np.zeros(embedding_dim))\n",
        "\n",
        "            progress_bar = tqdm(total=max_words, disable=not verbose)\n",
        "\n",
        "            for line in file_object:\n",
        "                parts = line.decode('utf-8').strip().split()\n",
        "\n",
        "                token = ' '.join(parts[:-embedding_dim]).lower()\n",
        "\n",
        "                if token in vocab:\n",
        "                    continue\n",
        "\n",
        "                word_vector = np.array(list(map(float, parts[-embedding_dim:])))\n",
        "\n",
        "                vocab[token] = len(vocab)\n",
        "                embeddings.append(word_vector)\n",
        "\n",
        "                progress_bar.update()\n",
        "\n",
        "                if len(vocab) == max_words:\n",
        "                    break\n",
        "\n",
        "            progress_bar.close()\n",
        "\n",
        "    embeddings = np.stack(embeddings)\n",
        "\n",
        "    return vocab, embeddings"
      ]
    },
    {
      "cell_type": "code",
      "execution_count": 50,
      "metadata": {
        "scrolled": true,
        "id": "6Y3U3W_Mp0Ha",
        "colab": {
          "base_uri": "https://localhost:8080/"
        },
        "outputId": "2868f480-6662-47ff-c864-e033f87f919a"
      },
      "outputs": [
        {
          "output_type": "stream",
          "name": "stderr",
          "text": [
            "100%|█████████▉| 99999/100000 [00:11<00:00, 8991.10it/s]\n"
          ]
        }
      ],
      "source": [
        "vocab, embeddings = load_embeddings('./wiki-news-300d-1M.vec.zip', 'wiki-news-300d-1M.vec', max_words=100_000)"
      ]
    },
    {
      "cell_type": "markdown",
      "metadata": {
        "id": "fa5fZUAgp0Ha"
      },
      "source": [
        "### Let's look at the word's closest neighbors by embeddings"
      ]
    },
    {
      "cell_type": "code",
      "execution_count": 51,
      "metadata": {
        "id": "ZLJozhsqp0Ha"
      },
      "outputs": [],
      "source": [
        "index2token = {index: token for token, index in vocab.items()}"
      ]
    },
    {
      "cell_type": "code",
      "execution_count": 52,
      "metadata": {
        "id": "nGnZAB57p0Ha"
      },
      "outputs": [],
      "source": [
        "emb_norms = np.linalg.norm(embeddings, axis=1)"
      ]
    },
    {
      "cell_type": "code",
      "execution_count": 53,
      "metadata": {
        "id": "njZRsqbOp0Ha"
      },
      "outputs": [],
      "source": [
        "def get_k_nearest_neighbors(word, embeddings, emb_norms, vocab, index2token, k=5):\n",
        "\n",
        "    if word not in vocab:\n",
        "        print('Not in vocab')\n",
        "        return\n",
        "\n",
        "    word_index = vocab[word]\n",
        "\n",
        "    word_vector = embeddings[word_index]\n",
        "    word_vector = np.expand_dims(word_vector, 0)\n",
        "\n",
        "    scores = (word_vector @ embeddings.T)[0]\n",
        "\n",
        "    # convert to cosines, dividing by vector norms\n",
        "    # epsilon 1e-6 so as not to divide by 0\n",
        "    scores = scores / (emb_norms + 1e-6) / emb_norms[word_index]\n",
        "\n",
        "    # 1:k+1 because 0-indexed element is the word itself\n",
        "    for idx in scores.argsort()[::-1][1:k+1]:\n",
        "        print(f'The word {index2token[idx]} is similar by {scores[idx]:.2f} to the word {word}')"
      ]
    },
    {
      "cell_type": "code",
      "execution_count": 54,
      "metadata": {
        "id": "ef54bCSOp0Ha",
        "colab": {
          "base_uri": "https://localhost:8080/"
        },
        "outputId": "05770ca4-930f-4327-8fda-87959d981a95"
      },
      "outputs": [
        {
          "output_type": "stream",
          "name": "stdout",
          "text": [
            "The word maria is similar by 0.73 to the word anna\n",
            "The word emma is similar by 0.66 to the word anna\n",
            "The word kristina is similar by 0.65 to the word anna\n",
            "The word laura is similar by 0.65 to the word anna\n",
            "The word emily is similar by 0.65 to the word anna\n"
          ]
        }
      ],
      "source": [
        "get_k_nearest_neighbors('anna', embeddings, emb_norms, vocab, index2token)"
      ]
    },
    {
      "cell_type": "code",
      "execution_count": 55,
      "metadata": {
        "id": "MyowgPaKp0Ha",
        "colab": {
          "base_uri": "https://localhost:8080/"
        },
        "outputId": "2ab19fb8-fb43-47b8-f166-c3549b0169c6"
      },
      "outputs": [
        {
          "output_type": "stream",
          "name": "stdout",
          "text": [
            "The word dad is similar by 0.85 to the word mom\n",
            "The word mum is similar by 0.78 to the word mom\n",
            "The word mother is similar by 0.76 to the word mom\n",
            "The word moms is similar by 0.75 to the word mom\n",
            "The word kid is similar by 0.68 to the word mom\n"
          ]
        }
      ],
      "source": [
        "get_k_nearest_neighbors('mom', embeddings, emb_norms, vocab, index2token)"
      ]
    },
    {
      "cell_type": "code",
      "execution_count": 56,
      "metadata": {
        "id": "elewn4qQp0Ha",
        "colab": {
          "base_uri": "https://localhost:8080/"
        },
        "outputId": "34feac0d-1552-4d17-d35a-d7292c7cd08e"
      },
      "outputs": [
        {
          "output_type": "stream",
          "name": "stdout",
          "text": [
            "The word has is similar by 0.78 to the word have\n",
            "The word been is similar by 0.75 to the word have\n",
            "The word 've is similar by 0.75 to the word have\n",
            "The word had is similar by 0.74 to the word have\n",
            "The word ahve is similar by 0.74 to the word have\n"
          ]
        }
      ],
      "source": [
        "get_k_nearest_neighbors('have', embeddings, emb_norms, vocab, index2token)"
      ]
    },
    {
      "cell_type": "code",
      "execution_count": 57,
      "metadata": {
        "id": "NuOTMg5jp0Hb",
        "colab": {
          "base_uri": "https://localhost:8080/"
        },
        "outputId": "9d12d824-b6ec-4623-f109-bb2dbd4637f2"
      },
      "outputs": [
        {
          "output_type": "stream",
          "name": "stdout",
          "text": [
            "The word cash is similar by 0.72 to the word money\n",
            "The word funds is similar by 0.72 to the word money\n",
            "The word monies is similar by 0.72 to the word money\n",
            "The word moneys is similar by 0.67 to the word money\n",
            "The word dosh is similar by 0.63 to the word money\n"
          ]
        }
      ],
      "source": [
        "get_k_nearest_neighbors('money', embeddings, emb_norms, vocab, index2token)"
      ]
    },
    {
      "cell_type": "code",
      "execution_count": 58,
      "metadata": {
        "id": "r7tnc8HRp0Hb",
        "colab": {
          "base_uri": "https://localhost:8080/"
        },
        "outputId": "cb8b7546-a13b-4dc9-ead7-0dcd1c397b2b"
      },
      "outputs": [
        {
          "output_type": "stream",
          "name": "stdout",
          "text": [
            "The word musical is similar by 0.71 to the word music\n",
            "The word songs is similar by 0.69 to the word music\n",
            "The word tunes is similar by 0.69 to the word music\n",
            "The word musics is similar by 0.68 to the word music\n",
            "The word composer is similar by 0.68 to the word music\n"
          ]
        }
      ],
      "source": [
        "get_k_nearest_neighbors('music', embeddings, emb_norms, vocab, index2token)"
      ]
    },
    {
      "cell_type": "markdown",
      "metadata": {
        "id": "KFiMGJaTp0Hb"
      },
      "source": [
        "### Choosing a tokenization method\n",
        "We now have a mapping that a certain word corresponds to a certain embedding of this word.\n",
        "Tokenization is the process of dividing a text into tokens, that is, parts of this text.\n",
        "How a \"word\" differs from a \"token\": a token is a more generalized concept, that is, for example, a number is a token"
      ]
    },
    {
      "cell_type": "code",
      "execution_count": 59,
      "metadata": {
        "id": "IyZsKJP3p0Hb"
      },
      "outputs": [],
      "source": [
        "# More details about the differences can be found, for example, here\n",
        "# https://stackoverflow.com/questions/50240029/nltk-wordpunct-tokenize-vs-word-tokenize\n",
        "from nltk.tokenize import word_tokenize, wordpunct_tokenize"
      ]
    },
    {
      "cell_type": "code",
      "execution_count": 60,
      "metadata": {
        "id": "i9wxJoG4p0Hb",
        "colab": {
          "base_uri": "https://localhost:8080/"
        },
        "outputId": "7c40db84-9649-4a11-c9c8-cfb27c5e3a18"
      },
      "outputs": [
        {
          "output_type": "stream",
          "name": "stderr",
          "text": [
            "100%|██████████| 250000/250000 [00:01<00:00, 193707.20it/s]"
          ]
        },
        {
          "output_type": "stream",
          "name": "stdout",
          "text": [
            "We don not know 511875 words out of 3604659 words in the dataset\n",
            "Which is 14.20% of the dataset\n",
            "\n",
            "Unique unknown words: 119045\n"
          ]
        },
        {
          "output_type": "stream",
          "name": "stderr",
          "text": [
            "\n"
          ]
        }
      ],
      "source": [
        "total_n_words = 0\n",
        "unknown_words = list()\n",
        "\n",
        "for sample in tqdm(train_x):\n",
        "    # tokenization by space\n",
        "    tokens = sample.split()\n",
        "\n",
        "    for tok in tokens:\n",
        "        # checking if the token is in our dictionary\n",
        "        if tok not in vocab:\n",
        "            unknown_words.append(tok)\n",
        "\n",
        "        total_n_words += 1\n",
        "\n",
        "print(f'We don not know {len(unknown_words)} words out of {total_n_words} words in the dataset')\n",
        "print(f'Which is {len(unknown_words) * 100 / total_n_words:.2f}% of the dataset')\n",
        "print()\n",
        "print(f'Unique unknown words: {len(set(unknown_words))}')"
      ]
    },
    {
      "cell_type": "code",
      "execution_count": 61,
      "metadata": {
        "id": "Kec5NFJ9p0Hb",
        "colab": {
          "base_uri": "https://localhost:8080/"
        },
        "outputId": "98ca811e-79fc-4b80-ff1c-007c970c0108"
      },
      "outputs": [
        {
          "output_type": "stream",
          "name": "stderr",
          "text": [
            "100%|██████████| 250000/250000 [00:02<00:00, 97931.39it/s]"
          ]
        },
        {
          "output_type": "stream",
          "name": "stdout",
          "text": [
            "we don not know 110523 words out of 4200673 words in the dataset\n",
            "Which is 2.63% of the dataset\n",
            "\n",
            "Unique unknown words: 36103\n"
          ]
        },
        {
          "output_type": "stream",
          "name": "stderr",
          "text": [
            "\n"
          ]
        }
      ],
      "source": [
        "total_n_words = 0\n",
        "unknown_words = list()\n",
        "\n",
        "for sample in tqdm(train_x):\n",
        "    # tokenization\n",
        "    tokens = wordpunct_tokenize(sample)\n",
        "\n",
        "    for tok in tokens:\n",
        "        # checking if the token is in our dictionary\n",
        "        if tok not in vocab:\n",
        "            unknown_words.append(tok)\n",
        "\n",
        "        total_n_words += 1\n",
        "\n",
        "print(f'we don not know {len(unknown_words)} words out of {total_n_words} words in the dataset')\n",
        "print(f'Which is {len(unknown_words) * 100 / total_n_words:.2f}% of the dataset')\n",
        "print()\n",
        "print(f'Unique unknown words: {len(set(unknown_words))}')"
      ]
    },
    {
      "cell_type": "code",
      "execution_count": 62,
      "metadata": {
        "id": "E-di5Ahpp0Hb"
      },
      "outputs": [],
      "source": [
        "# total_n_words = 0\n",
        "# unknown_words = list()\n",
        "\n",
        "# for sample in tqdm(train_x):\n",
        "#     # tokenization\n",
        "#     tokens = word_tokenize(sample)\n",
        "\n",
        "#     for tok in tokens:\n",
        "#         # checking if the token is in our dictionary\n",
        "#         if tok not in vocab:\n",
        "#             unknown_words.append(tok)\n",
        "\n",
        "#         total_n_words += 1\n",
        "\n",
        "# print(f'we don not know {len(unknown_words)} words out of {total_n_words} words in the dataset')\n",
        "# print(f'Which is {len(unknown_words) * 100 / total_n_words:.2f}% of the dataset')\n",
        "# print()\n",
        "# print(f'Unique unknown words: {len(set(unknown_words))}')"
      ]
    },
    {
      "cell_type": "markdown",
      "metadata": {
        "id": "r48Bee3xp0Hb"
      },
      "source": [
        "### Results\n",
        "- The speed of word_tokenize is much lower than that of wordpunct_tokenize\n",
        "- Using word_tokenize, we lose about 1% of the information from the dataset compared to wordpunct_tokenize\n",
        "\n",
        "### The choice is obvious in favor of wordpunct_tokenize"
      ]
    },
    {
      "cell_type": "code",
      "execution_count": 63,
      "metadata": {
        "id": "IoTdio7np0Hb"
      },
      "outputs": [],
      "source": [
        "class TextClassificationDataset(Dataset):\n",
        "\n",
        "    def __init__(self, texts, targets, vocab):\n",
        "        super().__init__()\n",
        "\n",
        "        self.texts = texts\n",
        "        self.targets = targets\n",
        "        self.vocab = vocab\n",
        "\n",
        "    def __len__(self):\n",
        "        return len(self.texts)\n",
        "\n",
        "    def tokenization(self, text):\n",
        "\n",
        "        tokens = wordpunct_tokenize(text)\n",
        "\n",
        "        token_indices = [self.vocab[tok] for tok in tokens if tok in self.vocab]\n",
        "\n",
        "        return token_indices\n",
        "\n",
        "    def __getitem__(self, index):\n",
        "\n",
        "        text = self.texts[index]\n",
        "        target = self.targets[index]\n",
        "\n",
        "        tokenized_text = self.tokenization(text)\n",
        "\n",
        "        # let's translate our token indices into a Torch tensor\n",
        "        # the target will convert itself\n",
        "        tokenized_text = torch.tensor(tokenized_text)\n",
        "\n",
        "        return tokenized_text, target"
      ]
    },
    {
      "cell_type": "code",
      "execution_count": 64,
      "metadata": {
        "id": "Hqw8crhyp0Hc"
      },
      "outputs": [],
      "source": [
        "train_dataset = TextClassificationDataset(texts=train_x, targets=train_y, vocab=vocab)"
      ]
    },
    {
      "cell_type": "code",
      "execution_count": 65,
      "metadata": {
        "id": "pmhSWQAnp0Hc"
      },
      "outputs": [],
      "source": [
        "x, y = train_dataset[5]"
      ]
    },
    {
      "cell_type": "code",
      "execution_count": 66,
      "metadata": {
        "id": "jLVMXlD5p0Hc",
        "colab": {
          "base_uri": "https://localhost:8080/"
        },
        "outputId": "0200076f-e9fb-474e-b04b-fd8ff97914b6"
      },
      "outputs": [
        {
          "output_type": "execute_result",
          "data": {
            "text/plain": [
              "tensor([   14,    29,   160, 29415,  4473,    37,  1569, 18399,    31,     7,\n",
              "        51329,  1959,    37])"
            ]
          },
          "metadata": {},
          "execution_count": 66
        }
      ],
      "source": [
        "x"
      ]
    },
    {
      "cell_type": "code",
      "execution_count": 67,
      "metadata": {
        "id": "gFOB_xrWp0Hc",
        "colab": {
          "base_uri": "https://localhost:8080/"
        },
        "outputId": "c6318014-2a50-4afd-d0c8-54fa83a8d2fb"
      },
      "outputs": [
        {
          "output_type": "execute_result",
          "data": {
            "text/plain": [
              "6"
            ]
          },
          "metadata": {},
          "execution_count": 67
        }
      ],
      "source": [
        "y"
      ]
    },
    {
      "cell_type": "code",
      "execution_count": 68,
      "metadata": {
        "id": "BsV-Hvfmp0Hc",
        "colab": {
          "base_uri": "https://localhost:8080/"
        },
        "outputId": "1cc7fd7f-2091-4bd9-a0aa-d176ffc65616"
      },
      "outputs": [
        {
          "output_type": "execute_result",
          "data": {
            "text/plain": [
              "['is',\n",
              " 'this',\n",
              " '11',\n",
              " 'mil',\n",
              " 'thick',\n",
              " '?',\n",
              " '45',\n",
              " 'lb',\n",
              " '/',\n",
              " 'in',\n",
              " 'tensile',\n",
              " 'strength',\n",
              " '?']"
            ]
          },
          "metadata": {},
          "execution_count": 68
        }
      ],
      "source": [
        "# we can restore the text back by word indexes\n",
        "[index2token[idx.item()] for idx in x]"
      ]
    },
    {
      "cell_type": "markdown",
      "metadata": {
        "id": "5emZf5gKp0Hc"
      },
      "source": [
        "### У нас остается проблема разных длин текстов\n",
        "Чтобы поместить батч текстов в один тензор нам нужны одинаковые длины"
      ]
    },
    {
      "cell_type": "code",
      "execution_count": 69,
      "metadata": {
        "id": "FoGLGVHPp0Hc"
      },
      "outputs": [],
      "source": [
        "## this won't work, you can uncomment and check\n",
        "\n",
        "# x = [\n",
        "#     [1, 2, 3],\n",
        "#     [1, 2, 3, 4, 5],\n",
        "#     [1, 2, 3, 4, 5, 6, 7]\n",
        "# ]\n",
        "\n",
        "# torch.tensor(x), torch.tensor(x).shape"
      ]
    },
    {
      "cell_type": "code",
      "execution_count": 70,
      "metadata": {
        "id": "PqvHRgpFp0Hc",
        "colab": {
          "base_uri": "https://localhost:8080/"
        },
        "outputId": "77dbc6f1-38f9-418e-ab94-0f7c813f7296"
      },
      "outputs": [
        {
          "output_type": "execute_result",
          "data": {
            "text/plain": [
              "(tensor([[1, 2, 3, 0, 0, 0, 0],\n",
              "         [1, 2, 3, 4, 5, 0, 0],\n",
              "         [1, 2, 3, 4, 5, 6, 7]]),\n",
              " torch.Size([3, 7]))"
            ]
          },
          "metadata": {},
          "execution_count": 70
        }
      ],
      "source": [
        "# this will work\n",
        "\n",
        "x = [\n",
        "    [1, 2, 3, 0, 0, 0, 0],\n",
        "    [1, 2, 3, 4, 5, 0, 0],\n",
        "    [1, 2, 3, 4, 5, 6, 7]\n",
        "]\n",
        "\n",
        "torch.tensor(x), torch.tensor(x).shape"
      ]
    },
    {
      "cell_type": "markdown",
      "metadata": {
        "id": "bVpPMw2Ap0Hd"
      },
      "source": [
        "### Text length\n",
        "We need to understand to what length we should pad each of our examples.\n",
        "We can find the maximum length of an example in tokens in our data and pad to this length, but this approach has a downside:\n",
        "we may have several texts with an abnormally large length, that is, some outliers.\n",
        "\n",
        "In this case, it is easier for us to limit the length of these texts to a certain statistic for our dataset. For example, 95% of our texts\n",
        "have a length of 25 words and this is enough for us. That is, we will limit the texts to this length, because almost the entire dataset fits within this length and we will not need to pad to a large length.\n",
        "\n",
        "We need padding so that we can place different examples in one batch, but we do not want to take these tokens into account. In fact, these will be idle runs and due to this compromise that most of the dataset is no more than n words and we can optimize our training.\n",
        "\n",
        "<br>\n",
        "\n",
        "\n",
        "> Why don't we just throw away these long texts?\n",
        "\n",
        "The point is that we want to come to some compromise between the maximum length and the loss of information. If we take the 95th percentile of our lengths (that is, 95% of our texts are no larger than n), then throwing away the remaining 5%, we will lose a significant part of the examples.\n",
        "On the other hand, it may seem wrong to limit the length and this can really break the meaning of the examples, but this is often neglected."
      ]
    },
    {
      "cell_type": "code",
      "execution_count": 71,
      "metadata": {
        "id": "BiOz4F1Rp0Hd",
        "colab": {
          "base_uri": "https://localhost:8080/"
        },
        "outputId": "26b09c50-88d8-4b54-f722-a2da2bac2302"
      },
      "outputs": [
        {
          "output_type": "stream",
          "name": "stderr",
          "text": [
            "100%|██████████| 250000/250000 [00:02<00:00, 96099.22it/s]\n"
          ]
        }
      ],
      "source": [
        "train_lengths = [len(wordpunct_tokenize(sample)) for sample in tqdm(train_x)]"
      ]
    },
    {
      "cell_type": "code",
      "execution_count": 72,
      "metadata": {
        "id": "q3hU1Q08p0Hd",
        "colab": {
          "base_uri": "https://localhost:8080/",
          "height": 644
        },
        "outputId": "90563c8e-355b-4690-dccb-78d92d14ae03"
      },
      "outputs": [
        {
          "output_type": "stream",
          "name": "stderr",
          "text": [
            "<ipython-input-72-6fda2ba84acf>:1: UserWarning: \n",
            "\n",
            "`distplot` is a deprecated function and will be removed in seaborn v0.14.0.\n",
            "\n",
            "Please adapt your code to use either `displot` (a figure-level function with\n",
            "similar flexibility) or `histplot` (an axes-level function for histograms).\n",
            "\n",
            "For a guide to updating your code to use the new functions, please see\n",
            "https://gist.github.com/mwaskom/de44147ed2974457ad6372750bbe5751\n",
            "\n",
            "  sns.distplot(train_lengths)\n"
          ]
        },
        {
          "output_type": "execute_result",
          "data": {
            "text/plain": [
              "<Axes: ylabel='Density'>"
            ]
          },
          "metadata": {},
          "execution_count": 72
        },
        {
          "output_type": "display_data",
          "data": {
            "text/plain": [
              "<Figure size 640x480 with 1 Axes>"
            ],
            "image/png": "[encoded data removed]"
          },
          "metadata": {}
        }
      ],
      "source": [
        "sns.distplot(train_lengths)"
      ]
    },
    {
      "cell_type": "code",
      "execution_count": 73,
      "metadata": {
        "id": "eBh49mEWp0Hd",
        "colab": {
          "base_uri": "https://localhost:8080/"
        },
        "outputId": "e1731d4a-838a-4ece-e783-3969bdf14fed"
      },
      "outputs": [
        {
          "output_type": "execute_result",
          "data": {
            "text/plain": [
              "34.0"
            ]
          },
          "metadata": {},
          "execution_count": 73
        }
      ],
      "source": [
        "# we see large outliers in the data\n",
        "# 97% of our texts are no more than this many tokens\n",
        "np.percentile(train_lengths, 95)"
      ]
    },
    {
      "cell_type": "code",
      "execution_count": 74,
      "metadata": {
        "id": "I9iyFrUqp0Hd"
      },
      "outputs": [],
      "source": [
        "class TextClassificationDataset(Dataset):\n",
        "\n",
        "    def __init__(self, texts, targets, vocab, pad_index=0, max_length=32):\n",
        "        super().__init__()\n",
        "\n",
        "        self.texts = texts\n",
        "        self.targets = targets\n",
        "        self.vocab = vocab\n",
        "\n",
        "        self.pad_index = pad_index\n",
        "        self.max_length = max_length\n",
        "\n",
        "    def __len__(self):\n",
        "        return len(self.texts)\n",
        "\n",
        "    def tokenization(self, text):\n",
        "\n",
        "        tokens = wordpunct_tokenize(text)\n",
        "\n",
        "        token_indices = [self.vocab[tok] for tok in tokens if tok in self.vocab]\n",
        "\n",
        "        return token_indices\n",
        "\n",
        "    def padding(self, tokenized_text):\n",
        "\n",
        "        tokenized_text = tokenized_text[:self.max_length]\n",
        "\n",
        "        tokenized_text += [self.pad_index] * (self.max_length - len(tokenized_text))\n",
        "\n",
        "        return tokenized_text\n",
        "\n",
        "    def __getitem__(self, index):\n",
        "\n",
        "        text = self.texts[index]\n",
        "        target = self.targets[index]\n",
        "\n",
        "        tokenized_text = self.tokenization(text)\n",
        "        tokenized_text = self.padding(tokenized_text)\n",
        "\n",
        "        tokenized_text = torch.tensor(tokenized_text)\n",
        "\n",
        "        return tokenized_text, target"
      ]
    },
    {
      "cell_type": "code",
      "execution_count": 75,
      "metadata": {
        "id": "J5FwsK_Pp0Hd"
      },
      "outputs": [],
      "source": [
        "train_dataset = TextClassificationDataset(texts=train_x, targets=train_y, vocab=vocab)"
      ]
    },
    {
      "cell_type": "code",
      "execution_count": 76,
      "metadata": {
        "id": "wPxc8vN3p0Hd",
        "colab": {
          "base_uri": "https://localhost:8080/"
        },
        "outputId": "5adc3936-42ce-4a08-b83b-b0d1513b1e5b"
      },
      "outputs": [
        {
          "output_type": "execute_result",
          "data": {
            "text/plain": [
              "tensor([   28,    23,  1750,    26,  3397,     4,    92,   537,    15,    29,\n",
              "         2649,    22,  6538,    96,    20,  1560,  9551,   358,     4,  4937,\n",
              "           23,   535,    38, 10223,     6,    92,   547,     3,    28,   422,\n",
              "           23,   535])"
            ]
          },
          "metadata": {},
          "execution_count": 76
        }
      ],
      "source": [
        "x, y = train_dataset[0]\n",
        "x"
      ]
    },
    {
      "cell_type": "code",
      "execution_count": 77,
      "metadata": {
        "id": "ueIkgVZ3p0Hd",
        "colab": {
          "base_uri": "https://localhost:8080/"
        },
        "outputId": "eadc2d15-7a4d-4f1a-b0fc-e1efdfba64bc"
      },
      "outputs": [
        {
          "output_type": "execute_result",
          "data": {
            "text/plain": [
              "['i',\n",
              " \"'\",\n",
              " 'm',\n",
              " 'from',\n",
              " 'oklahoma',\n",
              " 'and',\n",
              " 'my',\n",
              " 'order',\n",
              " 'for',\n",
              " 'this',\n",
              " 'item',\n",
              " 'was',\n",
              " 'cancelled',\n",
              " 'because',\n",
              " 'it',\n",
              " 'contains',\n",
              " 'hazardous',\n",
              " 'material',\n",
              " 'and',\n",
              " 'couldn',\n",
              " \"'\",\n",
              " 't',\n",
              " 'be',\n",
              " 'shipped',\n",
              " 'to',\n",
              " 'my',\n",
              " 'address',\n",
              " '.',\n",
              " 'i',\n",
              " 'don',\n",
              " \"'\",\n",
              " 't']"
            ]
          },
          "metadata": {},
          "execution_count": 77
        }
      ],
      "source": [
        "[index2token[idx.item()] for idx in x]"
      ]
    },
    {
      "cell_type": "code",
      "execution_count": 78,
      "metadata": {
        "id": "s1k6FFClp0Hd"
      },
      "outputs": [],
      "source": [
        "train_dataset = TextClassificationDataset(texts=train_x, targets=train_y, vocab=vocab)\n",
        "valid_dataset = TextClassificationDataset(texts=valid_x, targets=valid_y, vocab=vocab)\n",
        "\n",
        "train_loader = DataLoader(train_dataset, batch_size=128)\n",
        "valid_loader = DataLoader(valid_dataset, batch_size=128)"
      ]
    },
    {
      "cell_type": "code",
      "execution_count": 79,
      "metadata": {
        "id": "zVpxSMlVp0Hd"
      },
      "outputs": [],
      "source": [
        "for x, y in train_loader:\n",
        "    break"
      ]
    },
    {
      "cell_type": "code",
      "execution_count": 80,
      "metadata": {
        "id": "tDskKhd-p0He",
        "colab": {
          "base_uri": "https://localhost:8080/"
        },
        "outputId": "abb4d3ff-9d4a-4718-cc44-678f3adf27f3"
      },
      "outputs": [
        {
          "output_type": "execute_result",
          "data": {
            "text/plain": [
              "(torch.Size([128, 32]), torch.Size([128]))"
            ]
          },
          "metadata": {},
          "execution_count": 80
        }
      ],
      "source": [
        "x.shape, y.shape"
      ]
    },
    {
      "cell_type": "markdown",
      "metadata": {
        "id": "OD96riGMp0He"
      },
      "source": [
        "### How can we define layers?"
      ]
    },
    {
      "cell_type": "code",
      "execution_count": 81,
      "metadata": {
        "id": "qlOx4noop0He"
      },
      "outputs": [],
      "source": [
        "from torch import nn"
      ]
    },
    {
      "cell_type": "code",
      "execution_count": 82,
      "metadata": {
        "id": "So1HsX_qp0He"
      },
      "outputs": [],
      "source": [
        "embedding_layer = nn.Embedding(num_embeddings=len(vocab),\n",
        "                               embedding_dim=embeddings.shape[-1],\n",
        "                               padding_idx=0)"
      ]
    },
    {
      "cell_type": "code",
      "execution_count": 83,
      "metadata": {
        "id": "32CjrOlep0He"
      },
      "outputs": [],
      "source": [
        "x_embed = embedding_layer(x)"
      ]
    },
    {
      "cell_type": "code",
      "execution_count": 84,
      "metadata": {
        "id": "X7PJwiS9p0He",
        "colab": {
          "base_uri": "https://localhost:8080/"
        },
        "outputId": "f16284bd-62b9-4585-d536-c4846357ea19"
      },
      "outputs": [
        {
          "output_type": "execute_result",
          "data": {
            "text/plain": [
              "tensor([[[ 0.2727, -1.6305, -1.5280,  ...,  0.3448, -0.0045,  0.8920],\n",
              "         [ 0.5038,  1.1626,  1.0767,  ...,  0.7714,  1.3850,  1.1074],\n",
              "         [ 0.6327,  0.0833, -1.8820,  ..., -1.7380, -1.2971,  0.7890],\n",
              "         ...,\n",
              "         [-0.5437,  0.1790, -1.3968,  ...,  0.8833, -0.7848, -1.2462],\n",
              "         [ 0.5038,  1.1626,  1.0767,  ...,  0.7714,  1.3850,  1.1074],\n",
              "         [ 1.8540, -0.9828, -0.7065,  ..., -0.6236, -1.2338,  1.2042]],\n",
              "\n",
              "        [[-0.0259, -1.0343,  0.0547,  ...,  0.0246, -0.6475,  1.5948],\n",
              "         [-1.1186,  1.4200,  1.7940,  ..., -0.4780,  1.7623,  0.1413],\n",
              "         [ 0.5409,  0.2362, -0.1928,  ..., -1.7078, -1.3657,  0.9262],\n",
              "         ...,\n",
              "         [ 0.0000,  0.0000,  0.0000,  ...,  0.0000,  0.0000,  0.0000],\n",
              "         [ 0.0000,  0.0000,  0.0000,  ...,  0.0000,  0.0000,  0.0000],\n",
              "         [ 0.0000,  0.0000,  0.0000,  ...,  0.0000,  0.0000,  0.0000]],\n",
              "\n",
              "        [[ 0.4983, -0.1603, -0.2844,  ..., -0.2090,  0.1391,  0.7631],\n",
              "         [-0.0127, -1.3903, -0.9583,  ...,  0.5285,  0.1387, -0.5336],\n",
              "         [ 0.6236, -0.0519, -1.1538,  ...,  1.7181, -0.1087,  0.1386],\n",
              "         ...,\n",
              "         [ 1.4906,  1.3319, -0.2213,  ..., -0.8984,  0.1629, -0.4324],\n",
              "         [ 0.2402, -1.4754,  1.3378,  ...,  0.0980, -0.8350,  1.9827],\n",
              "         [-0.2578,  1.1695, -0.9188,  ..., -1.1953, -0.1575,  0.0121]],\n",
              "\n",
              "        ...,\n",
              "\n",
              "        [[-0.0259, -1.0343,  0.0547,  ...,  0.0246, -0.6475,  1.5948],\n",
              "         [ 1.7895, -0.8449, -0.1168,  ..., -1.5361, -0.5731,  1.8646],\n",
              "         [-0.9028, -0.8718, -1.1557,  ..., -1.3641,  0.3033,  1.3064],\n",
              "         ...,\n",
              "         [ 0.0000,  0.0000,  0.0000,  ...,  0.0000,  0.0000,  0.0000],\n",
              "         [ 0.0000,  0.0000,  0.0000,  ...,  0.0000,  0.0000,  0.0000],\n",
              "         [ 0.0000,  0.0000,  0.0000,  ...,  0.0000,  0.0000,  0.0000]],\n",
              "\n",
              "        [[ 0.5074, -0.2601, -0.5550,  ...,  0.9662,  0.8244,  0.7532],\n",
              "         [-0.0259, -1.0343,  0.0547,  ...,  0.0246, -0.6475,  1.5948],\n",
              "         [ 1.7895, -0.8449, -0.1168,  ..., -1.5361, -0.5731,  1.8646],\n",
              "         ...,\n",
              "         [ 0.0000,  0.0000,  0.0000,  ...,  0.0000,  0.0000,  0.0000],\n",
              "         [ 0.0000,  0.0000,  0.0000,  ...,  0.0000,  0.0000,  0.0000],\n",
              "         [ 0.0000,  0.0000,  0.0000,  ...,  0.0000,  0.0000,  0.0000]],\n",
              "\n",
              "        [[-1.4465,  0.0276, -0.7667,  ...,  0.5297,  0.3397, -0.7195],\n",
              "         [ 1.7895, -0.8449, -0.1168,  ..., -1.5361, -0.5731,  1.8646],\n",
              "         [-0.7994, -1.9433, -0.6849,  ...,  1.2927,  1.0726,  0.9425],\n",
              "         ...,\n",
              "         [ 0.0000,  0.0000,  0.0000,  ...,  0.0000,  0.0000,  0.0000],\n",
              "         [ 0.0000,  0.0000,  0.0000,  ...,  0.0000,  0.0000,  0.0000],\n",
              "         [ 0.0000,  0.0000,  0.0000,  ...,  0.0000,  0.0000,  0.0000]]],\n",
              "       grad_fn=<EmbeddingBackward0>)"
            ]
          },
          "metadata": {},
          "execution_count": 84
        }
      ],
      "source": [
        "x_embed"
      ]
    },
    {
      "cell_type": "code",
      "execution_count": 85,
      "metadata": {
        "id": "5Q2-JF08p0He",
        "colab": {
          "base_uri": "https://localhost:8080/"
        },
        "outputId": "4d0c4df0-87c8-4a8e-c0fd-bfb314e893fb"
      },
      "outputs": [
        {
          "output_type": "execute_result",
          "data": {
            "text/plain": [
              "torch.Size([128, 32, 300])"
            ]
          },
          "metadata": {},
          "execution_count": 85
        }
      ],
      "source": [
        "x_embed.shape"
      ]
    },
    {
      "cell_type": "markdown",
      "metadata": {
        "id": "4e1pd_Qep0He"
      },
      "source": [
        "### But we have read our embedding matrix\n",
        "Thus, it is initialized with pretrained weights.\n",
        "With such initialization, by default it is frozen, inside ```.from_pretrained(embeddings, padding_idx=0)``` there is a flag ```freeze```, which is responsible for freezing the weights if necessity. That is, these weights will not be updated during the training process."
      ]
    },
    {
      "cell_type": "code",
      "execution_count": 86,
      "metadata": {
        "id": "znxoHgLVp0He"
      },
      "outputs": [],
      "source": [
        "embeddings = torch.tensor(embeddings).float()"
      ]
    },
    {
      "cell_type": "code",
      "execution_count": 87,
      "metadata": {
        "id": "WiiLUx0rp0He"
      },
      "outputs": [],
      "source": [
        "embedding_layer = nn.Embedding.from_pretrained(embeddings, padding_idx=0)"
      ]
    },
    {
      "cell_type": "code",
      "execution_count": 88,
      "metadata": {
        "id": "dQFxez0Xp0He"
      },
      "outputs": [],
      "source": [
        "x_embed = embedding_layer(x)"
      ]
    },
    {
      "cell_type": "markdown",
      "metadata": {
        "id": "WaGyaaDsp0Hf"
      },
      "source": [
        "### A bit of LSTM\n",
        "Below will be about ```batch_first=True```"
      ]
    },
    {
      "cell_type": "code",
      "execution_count": 89,
      "metadata": {
        "id": "acLF3I9Ip0Hf"
      },
      "outputs": [],
      "source": [
        "lstm = nn.LSTM(input_size=300, hidden_size=128, num_layers=2, batch_first=True, dropout=0.3, bidirectional=True)"
      ]
    },
    {
      "cell_type": "code",
      "execution_count": 90,
      "metadata": {
        "id": "D0GMGrzrp0Hf"
      },
      "outputs": [],
      "source": [
        "x_lstm, _ = lstm(x_embed)"
      ]
    },
    {
      "cell_type": "code",
      "execution_count": 91,
      "metadata": {
        "id": "9T9Gui8-p0Hf",
        "colab": {
          "base_uri": "https://localhost:8080/"
        },
        "outputId": "f71dc800-1137-43a4-cf6a-c1aaff852d74"
      },
      "outputs": [
        {
          "output_type": "execute_result",
          "data": {
            "text/plain": [
              "torch.Size([128, 32, 256])"
            ]
          },
          "metadata": {},
          "execution_count": 91
        }
      ],
      "source": [
        "# 256 because it is a concatenation of the LSTM that read the text from left to right\n",
        "# and the LSTM that read the text from right to left\n",
        "x_lstm.shape"
      ]
    },
    {
      "cell_type": "code",
      "execution_count": 92,
      "metadata": {
        "id": "xKr1jf2hp0Hf",
        "colab": {
          "base_uri": "https://localhost:8080/"
        },
        "outputId": "0469e092-c80d-4df4-d516-32e19cce26c3"
      },
      "outputs": [
        {
          "output_type": "execute_result",
          "data": {
            "text/plain": [
              "torch.Size([128, 256])"
            ]
          },
          "metadata": {},
          "execution_count": 92
        }
      ],
      "source": [
        "# got rid of the time dimension\n",
        "x_lstm.mean(dim=1).shape"
      ]
    },
    {
      "cell_type": "markdown",
      "metadata": {
        "id": "L6paVGlRp0Hf"
      },
      "source": [
        "### Let's create our own network\n",
        "There is more detailed information about why we use classes at the end of the the first homework."
      ]
    },
    {
      "cell_type": "code",
      "execution_count": 93,
      "metadata": {
        "id": "xMWU-Ykjp0Hf"
      },
      "outputs": [],
      "source": [
        "class DeepAverageNetwork(nn.Module):\n",
        "\n",
        "    def __init__(self, embeddings, linear_1_size, linear_2_size, n_classes):\n",
        "        super().__init__()\n",
        "\n",
        "        self.embedding_layer = nn.Embedding.from_pretrained(embeddings, padding_idx=0)\n",
        "\n",
        "        self.batch_norm = nn.BatchNorm1d(num_features=embeddings.shape[-1])\n",
        "\n",
        "        self.linear_1 = nn.Linear(in_features=embeddings.shape[-1], out_features=linear_1_size)\n",
        "        self.linear_2 = nn.Linear(in_features=linear_1_size, out_features=linear_2_size)\n",
        "        self.linear_3 = nn.Linear(in_features=linear_2_size, out_features=n_classes)\n",
        "\n",
        "    def forward(self, x):\n",
        "\n",
        "        # translating word indices into embeddings of these words\n",
        "        # (batch_size, sequence_length) -> (batch_size, sequence_length, embedding_dim)\n",
        "        x = self.embedding_layer(x)\n",
        "\n",
        "        # aggregating our embeddings by time dimension\n",
        "        # (batch_size, sequence_length, embedding_dim) -> (batch_size, embedding_dim)\n",
        "        x = x.sum(dim=1)\n",
        "\n",
        "        # normalization\n",
        "        # (batch_size, embedding_dim) -> (batch_size, embedding_dim)\n",
        "        x = self.batch_norm(x)\n",
        "\n",
        "        # passing through the first linear layer\n",
        "        # (batch_size, embedding_dim) -> (batch_size, linear_1_size)\n",
        "        x = self.linear_1(x)\n",
        "\n",
        "        # applying nonlinearity\n",
        "        # (batch_size, linear_1_size) -> (batch_size, linear_1_size)\n",
        "        x = torch.relu(x)\n",
        "\n",
        "        # passing through the second linear layer\n",
        "        # (batch_size, linear_1_size) -> (batch_size, linear_2_size)\n",
        "        x = self.linear_2(x)\n",
        "\n",
        "        # applying nonlinearity\n",
        "        # (batch_size, linear_2_size) -> (batch_size, linear_2_size)\n",
        "        x = torch.relu(x)\n",
        "\n",
        "        # converting into the number of classes using a linear transformation\n",
        "        # (batch_size, linear_2_size) -> (batch_size, n_classes)\n",
        "        x = self.linear_3(x)\n",
        "\n",
        "        ## in theory there should have been a softmax here\n",
        "        ## but we will use the nn.CrossEntropyLoss() loss\n",
        "        ## its documentation says\n",
        "        ## This criterion combines :func:`nn.LogSoftmax` and :func:`nn.NLLLoss` in one single class.\n",
        "        ## this is some optimization that includes both the softmax and the negative log likelihood loss itself\n",
        "        ## since we have a softmax in the loss, we will not use it in the net\n",
        "        ## at the prediction stage (not training) we will separately do the softmax to obtain the class distribution\n",
        "        ##\n",
        "        ## (batch_size, n_classes) -> (batch_size, n_classes)\n",
        "        # x = torch.softmax(x, dim=-1)\n",
        "\n",
        "        return x"
      ]
    },
    {
      "cell_type": "code",
      "execution_count": 94,
      "metadata": {
        "id": "zX-__8jBp0Hf"
      },
      "outputs": [],
      "source": [
        "model = DeepAverageNetwork(embeddings=embeddings,\n",
        "                           linear_1_size=256,\n",
        "                           linear_2_size=128,\n",
        "                           n_classes=len(category2index))"
      ]
    },
    {
      "cell_type": "code",
      "execution_count": 95,
      "metadata": {
        "id": "k8cH1BsKp0Hf"
      },
      "outputs": [],
      "source": [
        "criterion = nn.CrossEntropyLoss()\n",
        "\n",
        "# set the optimizer\n",
        "# optimizer = ..."
      ]
    },
    {
      "cell_type": "markdown",
      "metadata": {
        "id": "w8s5hevKp0Hf"
      },
      "source": [
        "### Write a training loop\n",
        "What it should include:\n",
        "1. Obtaining model predictions\n",
        "1. Calculating the loss function\n",
        "1. Calculating gradients\n",
        "1. Gradient descent step\n",
        "1. Zeroing of the gradients\n",
        "1. Saving the loss value"
      ]
    },
    {
      "cell_type": "code",
      "execution_count": 96,
      "metadata": {
        "id": "dWZLu-sCp0Hf"
      },
      "outputs": [],
      "source": [
        "losses = list()\n",
        "\n",
        "# in model training we have a situation where some layers behave differently at the training and prediction stages\n",
        "# for example, batch norm (as well as all other normalizations) and dropout\n",
        "# this puts the model in the training mode\n",
        "model.train()\n",
        "\n",
        "for x, y in train_loader:\n",
        "\n",
        "    ..."
      ]
    },
    {
      "cell_type": "markdown",
      "metadata": {
        "id": "NBcm4fGcp0Hg"
      },
      "source": [
        "### Write a validation loop\n",
        "What it should include:\n",
        "1. Getting model predictions\n",
        "1. Calculating the loss function\n",
        "1. Saving the loss value\n",
        "\n",
        "Also, using the context ```with torch.no_grad():```, you can explicitly tell torch not to save the necessary parameters for calculating gradients. Required for the prediction mode."
      ]
    },
    {
      "cell_type": "code",
      "execution_count": 97,
      "metadata": {
        "id": "pUFiuWi3p0Hg"
      },
      "outputs": [],
      "source": [
        "losses = list()\n",
        "\n",
        "# this puts the model in the prediction mode\n",
        "# that is, batch norm statistics are recorded, dropout does not throw the features out\n",
        "model.eval()\n",
        "\n",
        "# note that we have changed our loader to the validation one\n",
        "for x, y in valid_loader:\n",
        "\n",
        "    with torch.no_grad():\n",
        "        # getting model predictions\n",
        "        # loss calculation\n",
        "        ...\n",
        "\n",
        "    ..."
      ]
    },
    {
      "cell_type": "markdown",
      "metadata": {
        "id": "WNia-Epvp0Hg"
      },
      "source": [
        "### Train for several epochs\n",
        "One epoch is one pass through the dataset.\n",
        "Steps:\n",
        "- Change something in the model, add a dropout, etc.\n",
        "- Stop training with early stopping\n",
        "- Add metric calculation during training and prediction (e.g. micro F1). To do this, you can, for example, save the model's predictions\n",
        "- After training, draw how the loss function changes on the training and validation dataset as training progresses, how the metrics change\n",
        "- Optional: build a confusion matrix\n",
        "\n",
        "Hints:\n",
        "- To save predictions correctly, you need to detach the variable from the graph, that is, do ```x.detach()```"
      ]
    },
    {
      "cell_type": "code",
      "execution_count": 98,
      "metadata": {
        "id": "2pXb39Zbp0Hg"
      },
      "outputs": [],
      "source": [
        "for n_epoch in range(2):\n",
        "    ..."
      ]
    },
    {
      "cell_type": "markdown",
      "metadata": {
        "id": "vU6xf7X1p0Hg"
      },
      "source": [
        "### Important and not so intuitive points about LSTM in Torch"
      ]
    },
    {
      "cell_type": "markdown",
      "metadata": {
        "id": "0v5Qyhl7p0Hg"
      },
      "source": [
        "By default, LSTM accepts data with the following dimensions:\n",
        "```python\n",
        "(seq_len, batch, input_size)\n",
        "```\n",
        "This is done for the purpose of optimization at a lower level.\n",
        "\n",
        "We operate with the following objects:\n",
        "```python\n",
        "(batch, seq_len, input_size)\n",
        "```\n",
        "For the LSTM to work correctly, we can either pass the parameter ```batch_first=True``` during layer initialization,\n",
        "or transpose (change) the first and second dimensions of our x before feeding it to the layer.\n",
        "[More on LSTM](https://pytorch.org/docs/stable/nn.html#lstm)"
      ]
    },
    {
      "cell_type": "markdown",
      "metadata": {
        "id": "8qmjjPAop0Hg"
      },
      "source": [
        "- 128 - batch size\n",
        "- 64 - sequence length (number of words)\n",
        "- 1024 - word embedding"
      ]
    },
    {
      "cell_type": "code",
      "execution_count": 99,
      "metadata": {
        "id": "oXZ_hDWrp0Hg"
      },
      "outputs": [],
      "source": [
        "x = torch.rand(128, 64, 1024)"
      ]
    },
    {
      "cell_type": "code",
      "execution_count": 100,
      "metadata": {
        "id": "h3vDLe4mp0Hg"
      },
      "outputs": [],
      "source": [
        "# first way\n",
        "lstm = torch.nn.LSTM(1024, 512, batch_first=True)\n",
        "\n",
        "pred, mem = lstm(x)"
      ]
    },
    {
      "cell_type": "code",
      "execution_count": 101,
      "metadata": {
        "id": "o27w6UVmp0Hg",
        "colab": {
          "base_uri": "https://localhost:8080/"
        },
        "outputId": "84d92e5b-a54b-4294-e020-17daf646a2d0"
      },
      "outputs": [
        {
          "output_type": "execute_result",
          "data": {
            "text/plain": [
              "torch.Size([128, 64, 512])"
            ]
          },
          "metadata": {},
          "execution_count": 101
        }
      ],
      "source": [
        "pred.shape"
      ]
    },
    {
      "cell_type": "code",
      "execution_count": 102,
      "metadata": {
        "id": "I5ETAZjOp0Hg"
      },
      "outputs": [],
      "source": [
        "# second way\n",
        "lstm = torch.nn.LSTM(1024, 512)\n",
        "\n",
        "# swap the dimensions of batch and seq_len\n",
        "x_transposed = x.transpose(0, 1)\n",
        "pred_transposed, mem = lstm(x_transposed)"
      ]
    },
    {
      "cell_type": "code",
      "execution_count": 103,
      "metadata": {
        "id": "22KC2zxHp0Hg",
        "colab": {
          "base_uri": "https://localhost:8080/"
        },
        "outputId": "0518b1a5-5b47-404d-ed70-ae4241c654a4"
      },
      "outputs": [
        {
          "output_type": "execute_result",
          "data": {
            "text/plain": [
              "torch.Size([64, 128, 512])"
            ]
          },
          "metadata": {},
          "execution_count": 103
        }
      ],
      "source": [
        "# we still have the (seq_len, batch, input_size) dimensions\n",
        "pred_transposed.shape"
      ]
    },
    {
      "cell_type": "code",
      "execution_count": 104,
      "metadata": {
        "id": "LubgqD-Gp0Hg",
        "colab": {
          "base_uri": "https://localhost:8080/"
        },
        "outputId": "2ad63bc8-dcd5-4537-ff52-4f09ab6c2402"
      },
      "outputs": [
        {
          "output_type": "execute_result",
          "data": {
            "text/plain": [
              "torch.Size([128, 64, 512])"
            ]
          },
          "metadata": {},
          "execution_count": 104
        }
      ],
      "source": [
        "# just transpose again\n",
        "pred = pred_transposed.transpose(0, 1)\n",
        "pred.shape"
      ]
    },
    {
      "cell_type": "markdown",
      "metadata": {
        "id": "McAoWwrJp0Hh"
      },
      "source": [
        "### Another important point about LSTM\n",
        "\n",
        "The input can also be a packed variable length sequence. See [torch.nn.utils.rnn.pack_padded_sequence()](https://pytorch.org/docs/stable/nn.html#torch.nn.utils.rnn.pack_padded_sequence) or [torch.nn.utils.rnn.pack_sequence()](https://pytorch.org/docs/stable/nn.html#torch.nn.utils.rnn.pack_sequence) for details.\n",
        "\n",
        "This is an internal Torch design that allows you to not read the ```PAD``` token, but still work with batches. That is, inside the batch we can pass to the LSTM that we have variable-length data. Don't forget that [torch.nn.utils.rnn.PackedSequence](https://pytorch.org/docs/stable/nn.html#torch.nn.utils.rnn.PackedSequence) is given to the output."
      ]
    },
    {
      "cell_type": "markdown",
      "metadata": {
        "id": "5QLLEloEp0Hh"
      },
      "source": [
        "## Homework\n",
        "\n",
        "1. Create a neural network class, add the necessary operations, the architecture is described below\n",
        "1. Write the training procedure (summarize what was discussed above)\n",
        "1. Add logging\n",
        "    1. Save the loss at each training iteration __0.25 points__\n",
        "    1. Save the loss of the train and test each epoch __0.25 points__\n",
        "    1. Calculate metrics at each epoch __0.25 points__\n",
        "    1. Add a progress bar that shows the average loss of the last 500 iterations __0.25 points__\n",
        "1. Add early stopping __0.5 points__\n",
        "1. Draw graphs of loss, metrics, conjugation matrix __0.5 points__\n",
        "\n",
        "### Architecture (what to try)\n",
        "1. Pre-trained embeddings. Read [here](https://pytorch.org/docs/stable/nn.html#embedding) (from_pretrained) how to add your own embeddings, above we read the embedding matrix. __0 points__\n",
        "1. Retrain the embeddings together with the network and with a different learning rate (specified in the optimizer). __2 points__\n",
        "1. Bidirectional LSTM. __1 point__\n",
        "1. Write the correct mean/max pooling, which does not take into account paddings, or rather masks them. __2 points__\n",
        "1. Add [torch.nn.utils.rnn.pack_padded_sequence()](https://pytorch.org/docs/stable/nn.html#torch.nn.utils.rnn.pack_padded_sequence) and [torch.nn.utils.rnn.pack_sequence()](https://pytorch.org/docs/stable/nn.html#torch.nn.utils.rnn.pack_sequence) for LSTM. Info [here](#Another-important-point-about-LSTM) __2 points__\n",
        "1. Add spatial dropout for LSTM input (not just a standard item when initializing LSTM) __1 point__\n",
        "1. Add BatchNorm/LayerNorm/Dropout/Residual/etc __2 points__\n",
        "1. Add scheduler __1 point__\n",
        "1. Train on GPU __2 points__\n",
        "1. your madness\n",
        "\n",
        "## Grade: 10 points maximum\n",
        "\n",
        "# Write down the results of the experiments\n",
        "# What worked and what didn't and why\n",
        "# And conclusions"
      ]
    },
    {
      "cell_type": "markdown",
      "source": [
        "### **Step 1: Import Necessary Libraries**"
      ],
      "metadata": {
        "id": "lGHfKxPa5tue"
      }
    },
    {
      "cell_type": "code",
      "source": [
        "import torch\n",
        "import torch.nn as nn\n",
        "import torch.optim as optim\n",
        "from torch.utils.data import DataLoader, Dataset\n",
        "from torch.nn.utils.rnn import pack_padded_sequence, pad_packed_sequence\n",
        "import numpy as np\n",
        "import zipfile\n",
        "from tqdm import tqdm\n",
        "import matplotlib.pyplot as plt\n",
        "from sklearn.metrics import accuracy_score, f1_score, confusion_matrix\n",
        "from data import Downloader, Parser  # Assuming data.py has these classes\n",
        "\n",
        "# Set device\n",
        "device = torch.device('cuda' if torch.cuda.is_available() else 'cpu')"
      ],
      "metadata": {
        "id": "up3cZn3oI_4z"
      },
      "execution_count": 116,
      "outputs": []
    },
    {
      "cell_type": "markdown",
      "source": [
        "### **Step 2: Download and Prepare Data**\n",
        "### Load and process data into train, validation, and test sets, mapping categories to indices."
      ],
      "metadata": {
        "id": "UV3EL1UW5xVv"
      }
    },
    {
      "cell_type": "code",
      "source": [
        "data_path = './data/'\n",
        "\n",
        "downloader = Downloader(data_path=data_path)\n",
        "downloader.run()\n",
        "parser = Parser(data_path=data_path)\n",
        "\n",
        "unlabeled, train, valid = parser.run()\n",
        "\n",
        "# Map categories to indices\n",
        "unique_categories = set(train['category'].unique().tolist() + valid['category'].unique().tolist())\n",
        "category2index = {category: index for index, category in enumerate(unique_categories)}\n",
        "train['target'] = train['category'].map(category2index)\n",
        "valid['target'] = valid['category'].map(category2index)"
      ],
      "metadata": {
        "colab": {
          "base_uri": "https://localhost:8080/"
        },
        "id": "qZImorCq3Sxm",
        "outputId": "ee661123-cc2d-4c4e-ba54-5964c9e90734"
      },
      "execution_count": 117,
      "outputs": [
        {
          "output_type": "stream",
          "name": "stderr",
          "text": [
            "single: 100%|██████████| 21/21 [00:01<00:00, 19.51it/s]\n",
            "multiple: 100%|██████████| 17/17 [00:00<00:00, 19.75it/s]\n",
            "Reading: 100%|██████████| 38/38 [02:43<00:00,  4.31s/it]\n"
          ]
        }
      ]
    },
    {
      "cell_type": "markdown",
      "source": [
        "### **Step 3: Load Pretrained Embeddings**\n",
        "### Define a function to load embeddings, which initializes the embedding layer with pretrained weights."
      ],
      "metadata": {
        "id": "ByLOZv-i56qf"
      }
    },
    {
      "cell_type": "code",
      "source": [
        "def load_embeddings(zip_path, filename, max_words=100_000):\n",
        "    vocab, embeddings = {}, []\n",
        "    with zipfile.ZipFile(zip_path) as zf:\n",
        "        with zf.open(filename) as f:\n",
        "            vocab_size, embedding_dim = map(int, f.readline().decode('utf-8').strip().split())\n",
        "            embeddings.append(np.zeros(embedding_dim))\n",
        "            vocab['PAD'] = 0\n",
        "            for i, line in enumerate(f):\n",
        "                if i >= max_words: break\n",
        "                parts = line.decode('utf-8').strip().split()\n",
        "                word = ' '.join(parts[:-embedding_dim])\n",
        "                vector = np.array(parts[-embedding_dim:], dtype=np.float32)\n",
        "                vocab[word] = len(vocab)\n",
        "                embeddings.append(vector)\n",
        "    return vocab, np.stack(embeddings)\n",
        "\n",
        "embedding_path = './wiki-news-300d-1M.vec.zip'\n",
        "embedding_filename = 'wiki-news-300d-1M.vec'\n",
        "vocab, embedding_matrix = load_embeddings(embedding_path, embedding_filename)\n",
        "embedding_matrix = torch.tensor(embedding_matrix).to(device)"
      ],
      "metadata": {
        "id": "6zlR7nUF3VHU"
      },
      "execution_count": 118,
      "outputs": []
    },
    {
      "cell_type": "markdown",
      "source": [
        "### **Step 4: Define the Dataset and DataLoader with Sequence Length Calculation**\n",
        "### The dataset should provide tokenized text, padded sequences, and sequence lengths."
      ],
      "metadata": {
        "id": "FB1qw6R_6BW7"
      }
    },
    {
      "cell_type": "code",
      "source": [
        "class TextClassificationDataset(Dataset):\n",
        "    def __init__(self, texts, targets, vocab, max_length=32):\n",
        "        self.texts = texts\n",
        "        self.targets = targets\n",
        "        self.vocab = vocab\n",
        "        self.max_length = max_length\n",
        "\n",
        "    def tokenization(self, text):\n",
        "        tokens = text.lower().split()\n",
        "        return [self.vocab.get(tok, 0) for tok in tokens]  # 0 is the padding index for unknown tokens\n",
        "\n",
        "    def padding(self, tokens):\n",
        "        tokens = tokens[:self.max_length]\n",
        "        tokens += [0] * (self.max_length - len(tokens))\n",
        "        return tokens\n",
        "\n",
        "    def __len__(self):\n",
        "        return len(self.texts)\n",
        "\n",
        "    def __getitem__(self, idx):\n",
        "        tokens = self.tokenization(self.texts[idx])\n",
        "        padded_tokens = self.padding(tokens)\n",
        "        length = min(len(tokens), self.max_length)  # Get the true length before padding\n",
        "        return torch.tensor(padded_tokens, dtype=torch.long), self.targets[idx], length\n",
        "\n",
        "# Create datasets and dataloaders\n",
        "train_dataset = TextClassificationDataset(train['question'], train['target'], vocab)\n",
        "valid_dataset = TextClassificationDataset(valid['question'], valid['target'], vocab)\n",
        "\n",
        "train_loader = DataLoader(train_dataset, batch_size=128, shuffle=True)\n",
        "valid_loader = DataLoader(valid_dataset, batch_size=128)"
      ],
      "metadata": {
        "id": "dOqpnezr3_wH"
      },
      "execution_count": 119,
      "outputs": []
    },
    {
      "cell_type": "markdown",
      "source": [
        "### **Step 5: Define the Model with Packed Sequences and Dropout1d**"
      ],
      "metadata": {
        "id": "jjtGXs4k6H-h"
      }
    },
    {
      "cell_type": "code",
      "source": [
        "class TextClassifier(nn.Module):\n",
        "    def __init__(self, embedding_matrix, hidden_size, linear_1_size, linear_2_size, n_classes):\n",
        "        super(TextClassifier, self).__init__()\n",
        "\n",
        "        # Load pre-trained embeddings and configure Dropout1d for 1D input\n",
        "        self.embedding = nn.Embedding.from_pretrained(embedding_matrix, padding_idx=0)\n",
        "        self.spatial_dropout = nn.Dropout1d(0.2)  # Use Dropout1d for 1D sequence data\n",
        "\n",
        "        # LSTM with bidirectional setup\n",
        "        self.lstm = nn.LSTM(input_size=embedding_matrix.shape[1],\n",
        "                            hidden_size=hidden_size,\n",
        "                            num_layers=2,\n",
        "                            batch_first=True,\n",
        "                            bidirectional=True)\n",
        "\n",
        "        # Batch normalization and fully connected layers\n",
        "        self.batch_norm = nn.BatchNorm1d(hidden_size * 2)\n",
        "        self.fc1 = nn.Linear(hidden_size * 2, linear_1_size)\n",
        "        self.fc2 = nn.Linear(linear_1_size, linear_2_size)\n",
        "        self.fc3 = nn.Linear(linear_2_size, n_classes)\n",
        "\n",
        "    def forward(self, x, lengths):\n",
        "        # Embed and ensure float32 type\n",
        "        x = self.embedding(x).float()  # Convert embeddings to float32 if needed\n",
        "        x = self.spatial_dropout(x.transpose(1, 2)).transpose(1, 2)  # Apply Dropout1d along sequence dimension\n",
        "\n",
        "        # Pack the padded sequence\n",
        "        packed_x = pack_padded_sequence(x, lengths.cpu(), batch_first=True, enforce_sorted=False)\n",
        "\n",
        "        # LSTM layer\n",
        "        packed_output, _ = self.lstm(packed_x)\n",
        "\n",
        "        # Unpack the sequence\n",
        "        x, _ = pad_packed_sequence(packed_output, batch_first=True)\n",
        "\n",
        "        # Apply mean pooling along the sequence length dimension\n",
        "        x = x.mean(dim=1)\n",
        "\n",
        "        # Pass through batch normalization and fully connected layers\n",
        "        x = self.batch_norm(x)\n",
        "        x = torch.relu(self.fc1(x))\n",
        "        x = torch.relu(self.fc2(x))\n",
        "        return self.fc3(x)\n",
        "\n",
        "# Instantiate model\n",
        "model = TextClassifier(embedding_matrix=embedding_matrix, hidden_size=128, linear_1_size=256, linear_2_size=128, n_classes=len(category2index)).to(device)"
      ],
      "metadata": {
        "id": "-KiMpWOg4FGv"
      },
      "execution_count": 120,
      "outputs": []
    },
    {
      "cell_type": "markdown",
      "source": [
        "### **Step 6: Define the Loss, Optimizer, and Scheduler**"
      ],
      "metadata": {
        "id": "_YTmsgxv6M1U"
      }
    },
    {
      "cell_type": "code",
      "source": [
        "criterion = nn.CrossEntropyLoss()\n",
        "optimizer = optim.Adam([\n",
        "    {'params': model.embedding.parameters(), 'lr': 1e-4},\n",
        "    {'params': model.lstm.parameters()},\n",
        "    {'params': model.fc1.parameters()},\n",
        "    {'params': model.fc2.parameters()},\n",
        "    {'params': model.fc3.parameters()}\n",
        "], lr=1e-3)\n",
        "scheduler = optim.lr_scheduler.StepLR(optimizer, step_size=3, gamma=0.1)"
      ],
      "metadata": {
        "id": "qyBNQY_F4Hmk"
      },
      "execution_count": 121,
      "outputs": []
    },
    {
      "cell_type": "markdown",
      "source": [
        "### **Step 7: Define Training and Validation Functions**\n",
        "### The training function will handle logging, scheduling, and early stopping."
      ],
      "metadata": {
        "id": "gRXP0-VK6RRs"
      }
    },
    {
      "cell_type": "code",
      "source": [
        "def train_epoch(model, data_loader, criterion, optimizer, scheduler=None):\n",
        "    model.train()\n",
        "    epoch_loss = 0\n",
        "    all_preds, all_labels = [], []\n",
        "    progress = tqdm(data_loader, desc=\"Training\", leave=False)\n",
        "\n",
        "    for x, y, lengths in progress:\n",
        "        x, y, lengths = x.to(device), y.to(device), lengths.to(device)\n",
        "        optimizer.zero_grad()\n",
        "\n",
        "        outputs = model(x, lengths)\n",
        "        loss = criterion(outputs, y)\n",
        "        loss.backward()\n",
        "        optimizer.step()\n",
        "        if scheduler:\n",
        "            scheduler.step()\n",
        "\n",
        "        epoch_loss += loss.item()\n",
        "        all_preds.extend(outputs.argmax(dim=1).detach().cpu().numpy())\n",
        "        all_labels.extend(y.cpu().numpy())\n",
        "\n",
        "    acc = accuracy_score(all_labels, all_preds)\n",
        "    f1 = f1_score(all_labels, all_preds, average='macro')\n",
        "    return epoch_loss / len(data_loader), acc, f1\n",
        "\n",
        "def validate_epoch(model, data_loader, criterion):\n",
        "    model.eval()\n",
        "    val_loss = 0\n",
        "    all_preds, all_labels = [], []\n",
        "\n",
        "    with torch.no_grad():\n",
        "        for x, y, lengths in data_loader:\n",
        "            x, y, lengths = x.to(device), y.to(device), lengths.to(device)\n",
        "            outputs = model(x, lengths)\n",
        "            loss = criterion(outputs, y)\n",
        "            val_loss += loss.item()\n",
        "            all_preds.extend(outputs.argmax(dim=1).detach().cpu().numpy())\n",
        "            all_labels.extend(y.cpu().numpy())\n",
        "\n",
        "    acc = accuracy_score(all_labels, all_preds)\n",
        "    f1 = f1_score(all_labels, all_preds, average='macro')\n",
        "    return val_loss / len(data_loader), acc, f1\n",
        "\n",
        "def train_model(model, train_loader, valid_loader, criterion, optimizer, scheduler, n_epochs=10, early_stop=3):\n",
        "    best_val_loss, patience = float('inf'), 0\n",
        "    train_losses, val_losses, val_accs, val_f1s = [], [], [], []\n",
        "\n",
        "    for epoch in range(n_epochs):\n",
        "        train_loss, train_acc, train_f1 = train_epoch(model, train_loader, criterion, optimizer, scheduler)\n",
        "        val_loss, val_acc, val_f1 = validate_epoch(model, valid_loader, criterion)\n",
        "\n",
        "        train_losses.append(train_loss)\n",
        "        val_losses.append(val_loss)\n",
        "        val_accs.append(val_acc)\n",
        "        val_f1s.append(val_f1)\n",
        "\n",
        "        print(f\"Epoch {epoch+1}/{n_epochs} - Train Loss: {train_loss:.4f} - Val Loss: {val_loss:.4f} - Val Acc: {val_acc:.4f} - Val F1: {val_f1:.4f}\")\n",
        "\n",
        "        if val_loss < best_val_loss:\n",
        "            best_val_loss = val_loss\n",
        "            patience = 0\n",
        "        else:\n",
        "            patience += 1\n",
        "            if patience >= early_stop:\n",
        "                print(\"Early stopping triggered\")\n",
        "                break\n",
        "\n",
        "    return train_losses, val_losses, val_accs, val_f1s\n",
        "\n",
        "train_losses, val_losses, val_accs, val_f1s = train_model(model, train_loader, valid_loader, criterion, optimizer, scheduler, n_epochs=20, early_stop=5)"
      ],
      "metadata": {
        "colab": {
          "base_uri": "https://localhost:8080/"
        },
        "id": "su9Wdw1y4LF_",
        "outputId": "2c37e6da-ad47-4b18-afdc-a42ebf660187"
      },
      "execution_count": 122,
      "outputs": [
        {
          "output_type": "stream",
          "name": "stderr",
          "text": []
        },
        {
          "output_type": "stream",
          "name": "stdout",
          "text": [
            "Epoch 1/20 - Train Loss: 1.9869 - Val Loss: 1.9883 - Val Acc: 0.2561 - Val F1: 0.0825\n"
          ]
        },
        {
          "output_type": "stream",
          "name": "stderr",
          "text": []
        },
        {
          "output_type": "stream",
          "name": "stdout",
          "text": [
            "Epoch 2/20 - Train Loss: 1.9869 - Val Loss: 1.9870 - Val Acc: 0.2557 - Val F1: 0.0823\n"
          ]
        },
        {
          "output_type": "stream",
          "name": "stderr",
          "text": []
        },
        {
          "output_type": "stream",
          "name": "stdout",
          "text": [
            "Epoch 3/20 - Train Loss: 1.9868 - Val Loss: 1.9882 - Val Acc: 0.2556 - Val F1: 0.0828\n"
          ]
        },
        {
          "output_type": "stream",
          "name": "stderr",
          "text": []
        },
        {
          "output_type": "stream",
          "name": "stdout",
          "text": [
            "Epoch 4/20 - Train Loss: 1.9867 - Val Loss: 1.9877 - Val Acc: 0.2555 - Val F1: 0.0827\n"
          ]
        },
        {
          "output_type": "stream",
          "name": "stderr",
          "text": []
        },
        {
          "output_type": "stream",
          "name": "stdout",
          "text": [
            "Epoch 5/20 - Train Loss: 1.9868 - Val Loss: 1.9875 - Val Acc: 0.2560 - Val F1: 0.0820\n"
          ]
        },
        {
          "output_type": "stream",
          "name": "stderr",
          "text": []
        },
        {
          "output_type": "stream",
          "name": "stdout",
          "text": [
            "Epoch 6/20 - Train Loss: 1.9869 - Val Loss: 1.9872 - Val Acc: 0.2559 - Val F1: 0.0809\n"
          ]
        },
        {
          "output_type": "stream",
          "name": "stderr",
          "text": []
        },
        {
          "output_type": "stream",
          "name": "stdout",
          "text": [
            "Epoch 7/20 - Train Loss: 1.9870 - Val Loss: 1.9878 - Val Acc: 0.2556 - Val F1: 0.0820\n",
            "Early stopping triggered\n"
          ]
        }
      ]
    },
    {
      "cell_type": "markdown",
      "source": [
        "### **Step 8: Plot Training Results**\n"
      ],
      "metadata": {
        "id": "BdlNPa6i6aj5"
      }
    },
    {
      "cell_type": "code",
      "source": [
        "epochs = range(1, len(train_losses) + 1)\n",
        "plt.figure(figsize=(12, 6))\n",
        "plt.plot(epochs, train_losses, label=\"Train Loss\")\n",
        "plt.plot(epochs, val_losses, label=\"Validation Loss\")\n",
        "plt.xlabel(\"Epoch\")\n",
        "plt.ylabel(\"Loss\")\n",
        "plt.title(\"Training and Validation Loss\")\n",
        "plt.legend()\n",
        "plt.show()\n",
        "\n",
        "plt.figure(figsize=(12, 6))\n",
        "plt.plot(epochs, val_accs, label=\"Validation Accuracy\")\n",
        "plt.plot(epochs, val_f1s, label=\"Validation F1 Score\")\n",
        "plt.xlabel(\"Epoch\")\n",
        "plt.ylabel(\"Score\")\n",
        "plt.title(\"Validation Accuracy and F1 Score\")\n",
        "plt.legend()\n",
        "plt.show()"
      ],
      "metadata": {
        "colab": {
          "base_uri": "https://localhost:8080/",
          "height": 1000
        },
        "id": "mNNAIwWw4N5e",
        "outputId": "59a300f7-f2f2-4b63-f4af-5a6e1c11bfe2"
      },
      "execution_count": 123,
      "outputs": [
        {
          "output_type": "display_data",
          "data": {
            "text/plain": [
              "<Figure size 1200x600 with 1 Axes>"
            ],
            "image/png": "[encoded data removed]"
          },
          "metadata": {}
        },
        {
          "output_type": "display_data",
          "data": {
            "text/plain": [
              "<Figure size 1200x600 with 1 Axes>"
            ],
            "image/png": "[encoded data removed]"
          },
          "metadata": {}
        }
      ]
    },
    {
      "cell_type": "code",
      "source": [],
      "metadata": {
        "id": "sN8vE4qy5goq"
      },
      "execution_count": null,
      "outputs": []
    }
  ],
  "metadata": {
    "kernelspec": {
      "display_name": "Python 3",
      "name": "python3"
    },
    "language_info": {
      "codemirror_mode": {
        "name": "ipython",
        "version": 3
      },
      "file_extension": ".py",
      "mimetype": "text/x-python",
      "name": "python",
      "nbconvert_exporter": "python",
      "pygments_lexer": "ipython3",
      "version": "3.7.4"
    },
    "colab": {
      "provenance": [],
      "gpuType": "T4"
    },
    "accelerator": "GPU"
  },
  "nbformat": 4,
  "nbformat_minor": 0
}